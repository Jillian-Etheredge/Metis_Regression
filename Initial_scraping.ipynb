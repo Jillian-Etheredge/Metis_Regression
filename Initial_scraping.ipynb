{
 "cells": [
  {
   "cell_type": "code",
   "execution_count": 1,
   "metadata": {},
   "outputs": [],
   "source": [
    "from bs4 import BeautifulSoup\n",
    "import requests\n",
    "from IPython.core.display import display, HTML\n",
    "import pandas as pd\n",
    "import pickle"
   ]
  },
  {
   "cell_type": "code",
   "execution_count": 2,
   "metadata": {},
   "outputs": [
    {
     "data": {
      "text/plain": [
       "200"
      ]
     },
     "execution_count": 2,
     "metadata": {},
     "output_type": "execute_result"
    }
   ],
   "source": [
    "url=\"https://www.imdb.com/search/title/?title_type=feature&num_votes=10000,&genres=horror&sort=user_rating,desc&pf_rd_m=A2FGELUUNOQJNL&pf_rd_p=301d182c-aae7-493b-8918-f25965d07ce0&pf_rd_r=M8XKTKV53J8KQ2K7FKW7&pf_rd_s=center-10&pf_rd_t=60601&pf_rd_i=scary-good&ref_=fea_scg_scg_ats_toprated_hd\"\n",
    "response=requests.get(url)\n",
    "response.status_code"
   ]
  },
  {
   "cell_type": "code",
   "execution_count": 3,
   "metadata": {},
   "outputs": [],
   "source": [
    "Highest_Horror=response.text\n",
    "Highest_Horror_soup=BeautifulSoup(Highest_Horror, 'html.parser')"
   ]
  },
  {
   "cell_type": "code",
   "execution_count": 4,
   "metadata": {},
   "outputs": [
    {
     "name": "stdout",
     "output_type": "stream",
     "text": [
      "<class 'bs4.element.ResultSet'>\n",
      "50\n"
     ]
    }
   ],
   "source": [
    "horror_containers=Highest_Horror_soup.find_all('div',class_='lister-item mode-advanced')\n",
    "print(type(horror_containers))\n",
    "print(len(horror_containers))"
   ]
  },
  {
   "cell_type": "code",
   "execution_count": 5,
   "metadata": {},
   "outputs": [],
   "source": [
    "url2=\"https://www.imdb.com/search/title/?title_type=feature&num_votes=10000,&genres=horror&sort=user_rating,desc&start=51&ref_=adv_nxt\"\n",
    "response2=requests.get(url2)\n",
    "Highest_Horror2=response2.text\n",
    "Highest_Horror2_soup=BeautifulSoup(Highest_Horror2,'html.parser')\n",
    "horror_containers2=Highest_Horror2_soup.find_all('div',class_='lister-item mode-advanced')"
   ]
  },
  {
   "cell_type": "code",
   "execution_count": 6,
   "metadata": {},
   "outputs": [],
   "source": [
    "url3=\"https://www.imdb.com/search/title/?title_type=feature&num_votes=10000,&genres=horror&sort=user_rating,desc&start=101&ref_=adv_nxt\"\n",
    "response3=requests.get(url3)\n",
    "Highest_Horror3=response3.text\n",
    "Highest_Horror3_soup=BeautifulSoup(Highest_Horror3,'html.parser')\n",
    "horror_containers3=Highest_Horror3_soup.find_all('div',class_='lister-item mode-advanced')"
   ]
  },
  {
   "cell_type": "code",
   "execution_count": 7,
   "metadata": {},
   "outputs": [],
   "source": [
    "url4=\"https://www.imdb.com/search/title/?title_type=feature&num_votes=10000,&genres=horror&sort=user_rating,desc&start=151&ref_=adv_nxt\"\n",
    "response4=requests.get(url4)\n",
    "Highest_Horror4=response4.text\n",
    "Highest_Horror4_soup=BeautifulSoup(Highest_Horror4,'html.parser')\n",
    "horror_containers4=Highest_Horror4_soup.find_all('div',class_='lister-item mode-advanced')"
   ]
  },
  {
   "cell_type": "code",
   "execution_count": 8,
   "metadata": {},
   "outputs": [],
   "source": [
    "url5=\"https://www.imdb.com/search/title/?title_type=feature&num_votes=10000,&genres=horror&sort=user_rating,desc&start=201&ref_=adv_nxt\"\n",
    "response5=requests.get(url5)\n",
    "Highest_Horror5=response5.text\n",
    "Highest_Horror5_soup=BeautifulSoup(Highest_Horror5,'html.parser')\n",
    "horror_containers5=Highest_Horror5_soup.find_all('div',class_='lister-item mode-advanced')"
   ]
  },
  {
   "cell_type": "code",
   "execution_count": 9,
   "metadata": {},
   "outputs": [],
   "source": [
    "url6=\"https://www.imdb.com/search/title/?title_type=feature&num_votes=10000,&genres=horror&sort=user_rating,desc&start=251&ref_=adv_nxt\"\n",
    "response6=requests.get(url6)\n",
    "Highest_Horror6=response6.text\n",
    "Highest_Horror6_soup=BeautifulSoup(Highest_Horror6,'html.parser')\n",
    "horror_containers6=Highest_Horror6_soup.find_all('div',class_='lister-item mode-advanced')"
   ]
  },
  {
   "cell_type": "code",
   "execution_count": 10,
   "metadata": {},
   "outputs": [],
   "source": [
    "url7=\"https://www.imdb.com/search/title/?title_type=feature&num_votes=10000,&genres=horror&sort=user_rating,desc&start=301&ref_=adv_nxt\"\n",
    "response7=requests.get(url7)\n",
    "Highest_Horror7=response7.text\n",
    "Highest_Horror7_soup=BeautifulSoup(Highest_Horror7,'html.parser')\n",
    "horror_containers7=Highest_Horror7_soup.find_all('div',class_='lister-item mode-advanced')"
   ]
  },
  {
   "cell_type": "code",
   "execution_count": 11,
   "metadata": {},
   "outputs": [],
   "source": [
    "url8=\"https://www.imdb.com/search/title/?title_type=feature&num_votes=10000,&genres=horror&sort=user_rating,desc&start=351&ref_=adv_nxt\"\n",
    "response8=requests.get(url8)\n",
    "Highest_Horror8=response8.text\n",
    "Highest_Horror8_soup=BeautifulSoup(Highest_Horror8,'html.parser')\n",
    "horror_containers8=Highest_Horror8_soup.find_all('div',class_='lister-item mode-advanced')"
   ]
  },
  {
   "cell_type": "code",
   "execution_count": 12,
   "metadata": {},
   "outputs": [],
   "source": [
    "url9=\"https://www.imdb.com/search/title/?title_type=feature&num_votes=10000,&genres=horror&sort=user_rating,desc&start=401&ref_=adv_nxt\"\n",
    "response9=requests.get(url9)\n",
    "Highest_Horror9=response9.text\n",
    "Highest_Horror9_soup=BeautifulSoup(Highest_Horror9,'html.parser')\n",
    "horror_containers9=Highest_Horror9_soup.find_all('div',class_='lister-item mode-advanced')"
   ]
  },
  {
   "cell_type": "code",
   "execution_count": 13,
   "metadata": {},
   "outputs": [],
   "source": [
    "url10=\"https://www.imdb.com/search/title/?title_type=feature&num_votes=10000,&genres=horror&sort=user_rating,desc&start=451&ref_=adv_nxt\"\n",
    "response10=requests.get(url10)\n",
    "Highest_Horror10=response10.text\n",
    "Highest_Horror10_soup=BeautifulSoup(Highest_Horror10,'html.parser')\n",
    "horror_containers10=Highest_Horror10_soup.find_all('div',class_='lister-item mode-advanced')"
   ]
  },
  {
   "cell_type": "code",
   "execution_count": 14,
   "metadata": {},
   "outputs": [],
   "source": [
    "url11=\"https://www.imdb.com/search/title/?title_type=feature&num_votes=10000,&genres=horror&sort=user_rating,desc&start=501&ref_=adv_nxt\"\n",
    "response11=requests.get(url11)\n",
    "Highest_Horror11=response11.text\n",
    "Highest_Horror11_soup=BeautifulSoup(Highest_Horror11,'html.parser')\n",
    "horror_containers11=Highest_Horror11_soup.find_all('div',class_='lister-item mode-advanced')"
   ]
  },
  {
   "cell_type": "code",
   "execution_count": 15,
   "metadata": {},
   "outputs": [],
   "source": [
    "url12=\"https://www.imdb.com/search/title/?title_type=feature&num_votes=10000,&genres=horror&sort=user_rating,desc&start=551&ref_=adv_nxt\"\n",
    "response12=requests.get(url12)\n",
    "Highest_Horror12=response12.text\n",
    "Highest_Horror12_soup=BeautifulSoup(Highest_Horror12,'html.parser')\n",
    "horror_containers12=Highest_Horror12_soup.find_all('div',class_='lister-item mode-advanced')"
   ]
  },
  {
   "cell_type": "code",
   "execution_count": 16,
   "metadata": {},
   "outputs": [],
   "source": [
    "url13=\"https://www.imdb.com/search/title/?title_type=feature&num_votes=10000,&genres=horror&sort=user_rating,desc&start=601&ref_=adv_nxt\"\n",
    "response13=requests.get(url13)\n",
    "Highest_Horror13=response13.text\n",
    "Highest_Horror13_soup=BeautifulSoup(Highest_Horror13,'html.parser')\n",
    "horror_containers13=Highest_Horror13_soup.find_all('div',class_='lister-item mode-advanced')"
   ]
  },
  {
   "cell_type": "code",
   "execution_count": 17,
   "metadata": {},
   "outputs": [],
   "source": [
    "url14=\"https://www.imdb.com/search/title/?title_type=feature&num_votes=10000,&genres=horror&sort=user_rating,desc&start=651&ref_=adv_nxt\"\n",
    "response14=requests.get(url14)\n",
    "Highest_Horror14=response14.text\n",
    "Highest_Horror14_soup=BeautifulSoup(Highest_Horror14,'html.parser')\n",
    "horror_containers14=Highest_Horror14_soup.find_all('div',class_='lister-item mode-advanced')"
   ]
  },
  {
   "cell_type": "code",
   "execution_count": 18,
   "metadata": {},
   "outputs": [],
   "source": [
    "url15=\"https://www.imdb.com/search/title/?title_type=feature&num_votes=10000,&genres=horror&sort=user_rating,desc&start=701&ref_=adv_nxt\"\n",
    "response15=requests.get(url15)\n",
    "Highest_Horror15=response15.text\n",
    "Highest_Horror15_soup=BeautifulSoup(Highest_Horror15,'html.parser')\n",
    "horror_containers15=Highest_Horror15_soup.find_all('div',class_='lister-item mode-advanced')"
   ]
  },
  {
   "cell_type": "code",
   "execution_count": 19,
   "metadata": {},
   "outputs": [],
   "source": [
    "url16=\"https://www.imdb.com/search/title/?title_type=feature&num_votes=10000,&genres=horror&sort=user_rating,desc&start=751&ref_=adv_nxt\"\n",
    "response16=requests.get(url16)\n",
    "Highest_Horror16=response16.text\n",
    "Highest_Horror16_soup=BeautifulSoup(Highest_Horror16,'html.parser')\n",
    "horror_containers16=Highest_Horror16_soup.find_all('div',class_='lister-item mode-advanced')"
   ]
  },
  {
   "cell_type": "code",
   "execution_count": 35,
   "metadata": {},
   "outputs": [],
   "source": [
    "url17=\"https://www.imdb.com/search/title/?title_type=feature&num_votes=10000,&genres=horror&sort=user_rating,desc&start=801&ref_=adv_nxt\"\n",
    "response17=requests.get(url17)\n",
    "Highest_Horror17=response17.text\n",
    "Highest_Horror17_soup=BeautifulSoup(Highest_Horror17,'html.parser')\n",
    "horror_containers17=Highest_Horror17_soup.find_all('div',class_='lister-item mode-advanced')"
   ]
  },
  {
   "cell_type": "code",
   "execution_count": 21,
   "metadata": {},
   "outputs": [],
   "source": [
    "url18=\"https://www.imdb.com/search/title/?title_type=feature&num_votes=10000,&genres=horror&sort=user_rating,desc&start=851&ref_=adv_nxt\"\n",
    "response18=requests.get(url18)\n",
    "Highest_Horror18=response18.text\n",
    "Highest_Horror18_soup=BeautifulSoup(Highest_Horror18,'html.parser')\n",
    "horror_containers18=Highest_Horror18_soup.find_all('div',class_='lister-item mode-advanced')"
   ]
  },
  {
   "cell_type": "code",
   "execution_count": 22,
   "metadata": {},
   "outputs": [],
   "source": [
    "url19=\"https://www.imdb.com/search/title/?title_type=feature&num_votes=10000,&genres=horror&sort=user_rating,desc&start=901&ref_=adv_nxt\"\n",
    "response19=requests.get(url19)\n",
    "Highest_Horror19=response19.text\n",
    "Highest_Horror19_soup=BeautifulSoup(Highest_Horror19,'html.parser')\n",
    "horror_containers19=Highest_Horror19_soup.find_all('div',class_='lister-item mode-advanced')"
   ]
  },
  {
   "cell_type": "code",
   "execution_count": 23,
   "metadata": {},
   "outputs": [],
   "source": [
    "url20=\"https://www.imdb.com/search/title/?title_type=feature&num_votes=10000,&genres=horror&sort=user_rating,desc&start=951&ref_=adv_nxt\"\n",
    "response20=requests.get(url20)\n",
    "Highest_Horror20=response20.text\n",
    "Highest_Horror20_soup=BeautifulSoup(Highest_Horror20,'html.parser')\n",
    "horror_containers20=Highest_Horror20_soup.find_all('div',class_='lister-item mode-advanced')"
   ]
  },
  {
   "cell_type": "code",
   "execution_count": 24,
   "metadata": {},
   "outputs": [],
   "source": [
    "url21=\"https://www.imdb.com/search/title/?title_type=feature&num_votes=10000,&genres=horror&sort=user_rating,desc&start=1001&ref_=adv_nxt\"\n",
    "response21=requests.get(url21)\n",
    "Highest_Horror21=response21.text\n",
    "Highest_Horror21_soup=BeautifulSoup(Highest_Horror21,'html.parser')\n",
    "horror_containers21=Highest_Horror21_soup.find_all('div',class_='lister-item mode-advanced')"
   ]
  },
  {
   "cell_type": "code",
   "execution_count": 25,
   "metadata": {},
   "outputs": [],
   "source": [
    "url22=\"https://www.imdb.com/search/title/?title_type=feature&num_votes=10000,&genres=horror&sort=user_rating,desc&start=1051&ref_=adv_nxt\"\n",
    "response22=requests.get(url22)\n",
    "Highest_Horror22=response22.text\n",
    "Highest_Horror22_soup=BeautifulSoup(Highest_Horror22,'html.parser')\n",
    "horror_containers22=Highest_Horror22_soup.find_all('div',class_='lister-item mode-advanced')"
   ]
  },
  {
   "cell_type": "code",
   "execution_count": 26,
   "metadata": {},
   "outputs": [],
   "source": [
    "url23=\"https://www.imdb.com/search/title/?title_type=feature&num_votes=10000,&genres=horror&sort=user_rating,desc&start=1101&ref_=adv_nxt\"\n",
    "response23=requests.get(url23)\n",
    "Highest_Horror23=response23.text\n",
    "Highest_Horror23_soup=BeautifulSoup(Highest_Horror23,'html.parser')\n",
    "horror_containers23=Highest_Horror23_soup.find_all('div',class_='lister-item mode-advanced')"
   ]
  },
  {
   "cell_type": "code",
   "execution_count": 20,
   "metadata": {},
   "outputs": [
    {
     "data": {
      "text/plain": [
       "'Psycho'"
      ]
     },
     "execution_count": 20,
     "metadata": {},
     "output_type": "execute_result"
    }
   ],
   "source": [
    "first_h=horror_containers[0]\n",
    "first_h_name=first_h.h3.a.text\n",
    "first_h_name"
   ]
  },
  {
   "cell_type": "markdown",
   "metadata": {},
   "source": [
    "Features I definitely want= year, rating, runtime, genre, imdb score, metascore, gross profits USA, \n",
    "Features I might want=director, stars, based off novel, Country, budget, worldwide gross"
   ]
  },
  {
   "cell_type": "code",
   "execution_count": 37,
   "metadata": {},
   "outputs": [
    {
     "data": {
      "text/plain": [
       "'602,283'"
      ]
     },
     "execution_count": 37,
     "metadata": {},
     "output_type": "execute_result"
    }
   ],
   "source": [
    "first_h.find('p',class_='sort-num_votes-visible').findNext().findNext().text\n"
   ]
  },
  {
   "cell_type": "code",
   "execution_count": 17,
   "metadata": {},
   "outputs": [
    {
     "data": {
      "text/plain": [
       "'(1960)'"
      ]
     },
     "execution_count": 17,
     "metadata": {},
     "output_type": "execute_result"
    }
   ],
   "source": [
    "first_year=first_h.find('span',class_='lister-item-year text-muted unbold')\n",
    "first_year=first_year.text\n",
    "first_year"
   ]
  },
  {
   "cell_type": "code",
   "execution_count": 18,
   "metadata": {},
   "outputs": [
    {
     "data": {
      "text/plain": [
       "'R'"
      ]
     },
     "execution_count": 18,
     "metadata": {},
     "output_type": "execute_result"
    }
   ],
   "source": [
    "first_rating=first_h.find('span',class_=\"certificate\")\n",
    "first_rating=first_rating.text\n",
    "first_rating"
   ]
  },
  {
   "cell_type": "code",
   "execution_count": 19,
   "metadata": {
    "scrolled": true
   },
   "outputs": [
    {
     "data": {
      "text/plain": [
       "'109 min'"
      ]
     },
     "execution_count": 19,
     "metadata": {},
     "output_type": "execute_result"
    }
   ],
   "source": [
    "first_runtime=first_h.find('span',class_=\"runtime\")\n",
    "first_runtime=first_runtime.text\n",
    "first_runtime"
   ]
  },
  {
   "cell_type": "code",
   "execution_count": 20,
   "metadata": {},
   "outputs": [
    {
     "data": {
      "text/plain": [
       "'\\nHorror, Mystery, Thriller            '"
      ]
     },
     "execution_count": 20,
     "metadata": {},
     "output_type": "execute_result"
    }
   ],
   "source": [
    "first_genre=first_h.find('span',class_=\"genre\").text\n",
    "first_genre"
   ]
  },
  {
   "cell_type": "code",
   "execution_count": 21,
   "metadata": {},
   "outputs": [
    {
     "data": {
      "text/plain": [
       "8.5"
      ]
     },
     "execution_count": 21,
     "metadata": {},
     "output_type": "execute_result"
    }
   ],
   "source": [
    "first_imdb_score=float(first_h.strong.text)\n",
    "first_imdb_score"
   ]
  },
  {
   "cell_type": "code",
   "execution_count": 22,
   "metadata": {},
   "outputs": [
    {
     "data": {
      "text/plain": [
       "97"
      ]
     },
     "execution_count": 22,
     "metadata": {},
     "output_type": "execute_result"
    }
   ],
   "source": [
    "first_meta=int(first_h.find('span',class_='metascore favorable').text)\n",
    "first_meta"
   ]
  },
  {
   "cell_type": "code",
   "execution_count": 23,
   "metadata": {},
   "outputs": [
    {
     "data": {
      "text/plain": [
       "'/title/tt0054215/'"
      ]
     },
     "execution_count": 23,
     "metadata": {},
     "output_type": "execute_result"
    }
   ],
   "source": [
    "first_h.find('a').get('href')"
   ]
  },
  {
   "cell_type": "code",
   "execution_count": 36,
   "metadata": {},
   "outputs": [],
   "source": [
    "names=[]\n",
    "years=[]\n",
    "#MPAA_ratings=[]\n",
    "runtimes=[]\n",
    "genres=[]\n",
    "imdb_score=[]\n",
    "metascores=[]\n",
    "links=[]\n",
    "votes=[]\n",
    "def getinfo(containers):\n",
    "    \"\"\"Goes through each listing on Feature Film, Rating Count at least 50,000, Horror \n",
    "        Adds to lists for film name, release year, MPAA rating, runtime, genre, imdb score,\n",
    "        metascore, and link to individual film\n",
    "        \n",
    "        converts runtime to int value of minutes\n",
    "        converts imdb score to float value\n",
    "        converts metascore into int value\n",
    "    \"\"\"\n",
    "    for container in containers:\n",
    "    \n",
    "        if container.find('div',class_='ratings-metascore') is not None:\n",
    "    \n",
    "            name=container.h3.a.text\n",
    "            names.append(name)\n",
    "    \n",
    "            year=container.find('span',class_='lister-item-year text-muted unbold').text\n",
    "            years.append(year)\n",
    "    \n",
    "            #MPAA=container.find('span',class_=\"certificate\").text\n",
    "            #MPAA_ratings.append(MPAA)\n",
    "    \n",
    "            runtime=container.find('span',class_=\"runtime\").text.replace('min','').replace(' ','')\n",
    "            runtimes.append(int(runtime))\n",
    "    \n",
    "            genre=container.find('span',class_='genre').text.replace('\\n','')\n",
    "            genres.append(genre)\n",
    "    \n",
    "            imdb=float(container.strong.text)\n",
    "            imdb_score.append(imdb)\n",
    "            \n",
    "            vote=container.find('p',class_='sort-num_votes-visible').findNext().findNext().text\n",
    "            votes.append(vote)\n",
    "    \n",
    "            meta=container.find('span',class_='metascore').text\n",
    "            metascores.append(int(meta))\n",
    "            \n",
    "            link=container.find('a').get('href')\n",
    "            links.append(link)\n",
    "\n",
    "getinfo(horror_containers)\n",
    "getinfo(horror_containers2)\n",
    "getinfo(horror_containers3)\n",
    "getinfo(horror_containers4)\n",
    "getinfo(horror_containers5)\n",
    "getinfo(horror_containers6)\n",
    "getinfo(horror_containers7)\n",
    "getinfo(horror_containers8)\n",
    "getinfo(horror_containers9)\n",
    "getinfo(horror_containers10)\n",
    "getinfo(horror_containers11)\n",
    "getinfo(horror_containers12)\n",
    "getinfo(horror_containers13)\n",
    "getinfo(horror_containers14)\n",
    "getinfo(horror_containers15)\n",
    "getinfo(horror_containers16)\n",
    "getinfo(horror_containers17)\n",
    "getinfo(horror_containers18)\n",
    "getinfo(horror_containers19)\n",
    "getinfo(horror_containers20)\n",
    "getinfo(horror_containers21)\n",
    "getinfo(horror_containers22)\n",
    "getinfo(horror_containers23)"
   ]
  },
  {
   "cell_type": "code",
   "execution_count": 37,
   "metadata": {},
   "outputs": [
    {
     "data": {
      "text/html": [
       "<div>\n",
       "<style scoped>\n",
       "    .dataframe tbody tr th:only-of-type {\n",
       "        vertical-align: middle;\n",
       "    }\n",
       "\n",
       "    .dataframe tbody tr th {\n",
       "        vertical-align: top;\n",
       "    }\n",
       "\n",
       "    .dataframe thead th {\n",
       "        text-align: right;\n",
       "    }\n",
       "</style>\n",
       "<table border=\"1\" class=\"dataframe\">\n",
       "  <thead>\n",
       "    <tr style=\"text-align: right;\">\n",
       "      <th></th>\n",
       "      <th>Movie</th>\n",
       "      <th>Year</th>\n",
       "      <th>Runtime (min)</th>\n",
       "      <th>Genres</th>\n",
       "      <th>IMDB Score</th>\n",
       "      <th>IMDB Votes</th>\n",
       "      <th>Metascore</th>\n",
       "      <th>Link stub</th>\n",
       "    </tr>\n",
       "  </thead>\n",
       "  <tbody>\n",
       "    <tr>\n",
       "      <th>0</th>\n",
       "      <td>Psycho</td>\n",
       "      <td>(1960)</td>\n",
       "      <td>109</td>\n",
       "      <td>Horror, Mystery, Thriller</td>\n",
       "      <td>8.5</td>\n",
       "      <td>602,815</td>\n",
       "      <td>97</td>\n",
       "      <td>/title/tt0054215/</td>\n",
       "    </tr>\n",
       "    <tr>\n",
       "      <th>1</th>\n",
       "      <td>The Shining</td>\n",
       "      <td>(1980)</td>\n",
       "      <td>146</td>\n",
       "      <td>Drama, Horror</td>\n",
       "      <td>8.4</td>\n",
       "      <td>896,027</td>\n",
       "      <td>66</td>\n",
       "      <td>/title/tt0081505/</td>\n",
       "    </tr>\n",
       "    <tr>\n",
       "      <th>2</th>\n",
       "      <td>Alien</td>\n",
       "      <td>(1979)</td>\n",
       "      <td>117</td>\n",
       "      <td>Horror, Sci-Fi</td>\n",
       "      <td>8.4</td>\n",
       "      <td>786,083</td>\n",
       "      <td>89</td>\n",
       "      <td>/title/tt0078748/</td>\n",
       "    </tr>\n",
       "    <tr>\n",
       "      <th>3</th>\n",
       "      <td>The Thing</td>\n",
       "      <td>(1982)</td>\n",
       "      <td>109</td>\n",
       "      <td>Horror, Mystery, Sci-Fi</td>\n",
       "      <td>8.1</td>\n",
       "      <td>370,424</td>\n",
       "      <td>57</td>\n",
       "      <td>/title/tt0084787/</td>\n",
       "    </tr>\n",
       "    <tr>\n",
       "      <th>4</th>\n",
       "      <td>What Ever Happened to Baby Jane?</td>\n",
       "      <td>(1962)</td>\n",
       "      <td>134</td>\n",
       "      <td>Drama, Horror, Thriller</td>\n",
       "      <td>8.1</td>\n",
       "      <td>49,967</td>\n",
       "      <td>75</td>\n",
       "      <td>/title/tt0056687/</td>\n",
       "    </tr>\n",
       "    <tr>\n",
       "      <th>...</th>\n",
       "      <td>...</td>\n",
       "      <td>...</td>\n",
       "      <td>...</td>\n",
       "      <td>...</td>\n",
       "      <td>...</td>\n",
       "      <td>...</td>\n",
       "      <td>...</td>\n",
       "      <td>...</td>\n",
       "    </tr>\n",
       "    <tr>\n",
       "      <th>931</th>\n",
       "      <td>Jaws: The Revenge</td>\n",
       "      <td>(1987)</td>\n",
       "      <td>89</td>\n",
       "      <td>Adventure, Horror, Thriller</td>\n",
       "      <td>3.0</td>\n",
       "      <td>41,154</td>\n",
       "      <td>15</td>\n",
       "      <td>/title/tt0093300/</td>\n",
       "    </tr>\n",
       "    <tr>\n",
       "      <th>932</th>\n",
       "      <td>BloodRayne</td>\n",
       "      <td>(2005)</td>\n",
       "      <td>95</td>\n",
       "      <td>Action, Fantasy, Horror</td>\n",
       "      <td>2.9</td>\n",
       "      <td>34,131</td>\n",
       "      <td>18</td>\n",
       "      <td>/title/tt0383222/</td>\n",
       "    </tr>\n",
       "    <tr>\n",
       "      <th>933</th>\n",
       "      <td>The Human Centipede III (Final Sequence)</td>\n",
       "      <td>(2015)</td>\n",
       "      <td>102</td>\n",
       "      <td>Comedy, Crime, Horror</td>\n",
       "      <td>2.7</td>\n",
       "      <td>14,729</td>\n",
       "      <td>5</td>\n",
       "      <td>/title/tt1883367/</td>\n",
       "    </tr>\n",
       "    <tr>\n",
       "      <th>934</th>\n",
       "      <td>Alone in the Dark</td>\n",
       "      <td>(2005)</td>\n",
       "      <td>96</td>\n",
       "      <td>Action, Horror, Sci-Fi</td>\n",
       "      <td>2.4</td>\n",
       "      <td>41,668</td>\n",
       "      <td>9</td>\n",
       "      <td>/title/tt0369226/</td>\n",
       "    </tr>\n",
       "    <tr>\n",
       "      <th>935</th>\n",
       "      <td>House of the Dead</td>\n",
       "      <td>(2003)</td>\n",
       "      <td>90</td>\n",
       "      <td>Action, Adventure, Horror</td>\n",
       "      <td>2.0</td>\n",
       "      <td>35,857</td>\n",
       "      <td>15</td>\n",
       "      <td>/title/tt0317676/</td>\n",
       "    </tr>\n",
       "  </tbody>\n",
       "</table>\n",
       "<p>936 rows × 8 columns</p>\n",
       "</div>"
      ],
      "text/plain": [
       "                                        Movie    Year  Runtime (min)  \\\n",
       "0                                      Psycho  (1960)            109   \n",
       "1                                 The Shining  (1980)            146   \n",
       "2                                       Alien  (1979)            117   \n",
       "3                                   The Thing  (1982)            109   \n",
       "4            What Ever Happened to Baby Jane?  (1962)            134   \n",
       "..                                        ...     ...            ...   \n",
       "931                         Jaws: The Revenge  (1987)             89   \n",
       "932                                BloodRayne  (2005)             95   \n",
       "933  The Human Centipede III (Final Sequence)  (2015)            102   \n",
       "934                         Alone in the Dark  (2005)             96   \n",
       "935                         House of the Dead  (2003)             90   \n",
       "\n",
       "                                      Genres  IMDB Score IMDB Votes  \\\n",
       "0      Horror, Mystery, Thriller                     8.5    602,815   \n",
       "1                  Drama, Horror                     8.4    896,027   \n",
       "2                 Horror, Sci-Fi                     8.4    786,083   \n",
       "3        Horror, Mystery, Sci-Fi                     8.1    370,424   \n",
       "4        Drama, Horror, Thriller                     8.1     49,967   \n",
       "..                                       ...         ...        ...   \n",
       "931  Adventure, Horror, Thriller                     3.0     41,154   \n",
       "932      Action, Fantasy, Horror                     2.9     34,131   \n",
       "933        Comedy, Crime, Horror                     2.7     14,729   \n",
       "934       Action, Horror, Sci-Fi                     2.4     41,668   \n",
       "935    Action, Adventure, Horror                     2.0     35,857   \n",
       "\n",
       "     Metascore          Link stub  \n",
       "0           97  /title/tt0054215/  \n",
       "1           66  /title/tt0081505/  \n",
       "2           89  /title/tt0078748/  \n",
       "3           57  /title/tt0084787/  \n",
       "4           75  /title/tt0056687/  \n",
       "..         ...                ...  \n",
       "931         15  /title/tt0093300/  \n",
       "932         18  /title/tt0383222/  \n",
       "933          5  /title/tt1883367/  \n",
       "934          9  /title/tt0369226/  \n",
       "935         15  /title/tt0317676/  \n",
       "\n",
       "[936 rows x 8 columns]"
      ]
     },
     "execution_count": 37,
     "metadata": {},
     "output_type": "execute_result"
    }
   ],
   "source": [
    "practice_df=pd.DataFrame({'Movie':names,\n",
    "                         'Year':years,\n",
    "                         #'MPAA Rating':MPAA_ratings,\n",
    "                         'Runtime (min)':runtimes,\n",
    "                         'Genres':genres,\n",
    "                         'IMDB Score':imdb_score,\n",
    "                          'IMDB Votes':votes,\n",
    "                         'Metascore':metascores,\n",
    "                         'Link stub':links})\n",
    "practice_df"
   ]
  },
  {
   "cell_type": "code",
   "execution_count": 39,
   "metadata": {},
   "outputs": [],
   "source": [
    "practice_df.to_pickle('rough_horror_df1.pkl')"
   ]
  },
  {
   "cell_type": "code",
   "execution_count": 40,
   "metadata": {},
   "outputs": [
    {
     "data": {
      "text/html": [
       "<div>\n",
       "<style scoped>\n",
       "    .dataframe tbody tr th:only-of-type {\n",
       "        vertical-align: middle;\n",
       "    }\n",
       "\n",
       "    .dataframe tbody tr th {\n",
       "        vertical-align: top;\n",
       "    }\n",
       "\n",
       "    .dataframe thead th {\n",
       "        text-align: right;\n",
       "    }\n",
       "</style>\n",
       "<table border=\"1\" class=\"dataframe\">\n",
       "  <thead>\n",
       "    <tr style=\"text-align: right;\">\n",
       "      <th></th>\n",
       "      <th>Movie</th>\n",
       "      <th>Year</th>\n",
       "      <th>Runtime (min)</th>\n",
       "      <th>Genres</th>\n",
       "      <th>IMDB Score</th>\n",
       "      <th>IMDB Votes</th>\n",
       "      <th>Metascore</th>\n",
       "      <th>Link stub</th>\n",
       "    </tr>\n",
       "  </thead>\n",
       "  <tbody>\n",
       "    <tr>\n",
       "      <th>0</th>\n",
       "      <td>Psycho</td>\n",
       "      <td>(1960)</td>\n",
       "      <td>109</td>\n",
       "      <td>Horror, Mystery, Thriller</td>\n",
       "      <td>8.5</td>\n",
       "      <td>602,815</td>\n",
       "      <td>97</td>\n",
       "      <td>/title/tt0054215/</td>\n",
       "    </tr>\n",
       "    <tr>\n",
       "      <th>1</th>\n",
       "      <td>The Shining</td>\n",
       "      <td>(1980)</td>\n",
       "      <td>146</td>\n",
       "      <td>Drama, Horror</td>\n",
       "      <td>8.4</td>\n",
       "      <td>896,027</td>\n",
       "      <td>66</td>\n",
       "      <td>/title/tt0081505/</td>\n",
       "    </tr>\n",
       "    <tr>\n",
       "      <th>2</th>\n",
       "      <td>Alien</td>\n",
       "      <td>(1979)</td>\n",
       "      <td>117</td>\n",
       "      <td>Horror, Sci-Fi</td>\n",
       "      <td>8.4</td>\n",
       "      <td>786,083</td>\n",
       "      <td>89</td>\n",
       "      <td>/title/tt0078748/</td>\n",
       "    </tr>\n",
       "    <tr>\n",
       "      <th>3</th>\n",
       "      <td>The Thing</td>\n",
       "      <td>(1982)</td>\n",
       "      <td>109</td>\n",
       "      <td>Horror, Mystery, Sci-Fi</td>\n",
       "      <td>8.1</td>\n",
       "      <td>370,424</td>\n",
       "      <td>57</td>\n",
       "      <td>/title/tt0084787/</td>\n",
       "    </tr>\n",
       "    <tr>\n",
       "      <th>4</th>\n",
       "      <td>What Ever Happened to Baby Jane?</td>\n",
       "      <td>(1962)</td>\n",
       "      <td>134</td>\n",
       "      <td>Drama, Horror, Thriller</td>\n",
       "      <td>8.1</td>\n",
       "      <td>49,967</td>\n",
       "      <td>75</td>\n",
       "      <td>/title/tt0056687/</td>\n",
       "    </tr>\n",
       "    <tr>\n",
       "      <th>...</th>\n",
       "      <td>...</td>\n",
       "      <td>...</td>\n",
       "      <td>...</td>\n",
       "      <td>...</td>\n",
       "      <td>...</td>\n",
       "      <td>...</td>\n",
       "      <td>...</td>\n",
       "      <td>...</td>\n",
       "    </tr>\n",
       "    <tr>\n",
       "      <th>931</th>\n",
       "      <td>Jaws: The Revenge</td>\n",
       "      <td>(1987)</td>\n",
       "      <td>89</td>\n",
       "      <td>Adventure, Horror, Thriller</td>\n",
       "      <td>3.0</td>\n",
       "      <td>41,154</td>\n",
       "      <td>15</td>\n",
       "      <td>/title/tt0093300/</td>\n",
       "    </tr>\n",
       "    <tr>\n",
       "      <th>932</th>\n",
       "      <td>BloodRayne</td>\n",
       "      <td>(2005)</td>\n",
       "      <td>95</td>\n",
       "      <td>Action, Fantasy, Horror</td>\n",
       "      <td>2.9</td>\n",
       "      <td>34,131</td>\n",
       "      <td>18</td>\n",
       "      <td>/title/tt0383222/</td>\n",
       "    </tr>\n",
       "    <tr>\n",
       "      <th>933</th>\n",
       "      <td>The Human Centipede III (Final Sequence)</td>\n",
       "      <td>(2015)</td>\n",
       "      <td>102</td>\n",
       "      <td>Comedy, Crime, Horror</td>\n",
       "      <td>2.7</td>\n",
       "      <td>14,729</td>\n",
       "      <td>5</td>\n",
       "      <td>/title/tt1883367/</td>\n",
       "    </tr>\n",
       "    <tr>\n",
       "      <th>934</th>\n",
       "      <td>Alone in the Dark</td>\n",
       "      <td>(2005)</td>\n",
       "      <td>96</td>\n",
       "      <td>Action, Horror, Sci-Fi</td>\n",
       "      <td>2.4</td>\n",
       "      <td>41,668</td>\n",
       "      <td>9</td>\n",
       "      <td>/title/tt0369226/</td>\n",
       "    </tr>\n",
       "    <tr>\n",
       "      <th>935</th>\n",
       "      <td>House of the Dead</td>\n",
       "      <td>(2003)</td>\n",
       "      <td>90</td>\n",
       "      <td>Action, Adventure, Horror</td>\n",
       "      <td>2.0</td>\n",
       "      <td>35,857</td>\n",
       "      <td>15</td>\n",
       "      <td>/title/tt0317676/</td>\n",
       "    </tr>\n",
       "  </tbody>\n",
       "</table>\n",
       "<p>936 rows × 8 columns</p>\n",
       "</div>"
      ],
      "text/plain": [
       "                                        Movie    Year  Runtime (min)  \\\n",
       "0                                      Psycho  (1960)            109   \n",
       "1                                 The Shining  (1980)            146   \n",
       "2                                       Alien  (1979)            117   \n",
       "3                                   The Thing  (1982)            109   \n",
       "4            What Ever Happened to Baby Jane?  (1962)            134   \n",
       "..                                        ...     ...            ...   \n",
       "931                         Jaws: The Revenge  (1987)             89   \n",
       "932                                BloodRayne  (2005)             95   \n",
       "933  The Human Centipede III (Final Sequence)  (2015)            102   \n",
       "934                         Alone in the Dark  (2005)             96   \n",
       "935                         House of the Dead  (2003)             90   \n",
       "\n",
       "                                      Genres  IMDB Score IMDB Votes  \\\n",
       "0      Horror, Mystery, Thriller                     8.5    602,815   \n",
       "1                  Drama, Horror                     8.4    896,027   \n",
       "2                 Horror, Sci-Fi                     8.4    786,083   \n",
       "3        Horror, Mystery, Sci-Fi                     8.1    370,424   \n",
       "4        Drama, Horror, Thriller                     8.1     49,967   \n",
       "..                                       ...         ...        ...   \n",
       "931  Adventure, Horror, Thriller                     3.0     41,154   \n",
       "932      Action, Fantasy, Horror                     2.9     34,131   \n",
       "933        Comedy, Crime, Horror                     2.7     14,729   \n",
       "934       Action, Horror, Sci-Fi                     2.4     41,668   \n",
       "935    Action, Adventure, Horror                     2.0     35,857   \n",
       "\n",
       "     Metascore          Link stub  \n",
       "0           97  /title/tt0054215/  \n",
       "1           66  /title/tt0081505/  \n",
       "2           89  /title/tt0078748/  \n",
       "3           57  /title/tt0084787/  \n",
       "4           75  /title/tt0056687/  \n",
       "..         ...                ...  \n",
       "931         15  /title/tt0093300/  \n",
       "932         18  /title/tt0383222/  \n",
       "933          5  /title/tt1883367/  \n",
       "934          9  /title/tt0369226/  \n",
       "935         15  /title/tt0317676/  \n",
       "\n",
       "[936 rows x 8 columns]"
      ]
     },
     "execution_count": 40,
     "metadata": {},
     "output_type": "execute_result"
    }
   ],
   "source": [
    "rough_horror_df=pd.read_pickle('rough_horror_df1.pkl')\n",
    "rough_horror_df"
   ]
  },
  {
   "cell_type": "code",
   "execution_count": 5,
   "metadata": {},
   "outputs": [
    {
     "name": "stdout",
     "output_type": "stream",
     "text": [
      "<class 'pandas.core.frame.DataFrame'>\n",
      "RangeIndex: 570 entries, 0 to 569\n",
      "Data columns (total 8 columns):\n",
      " #   Column         Non-Null Count  Dtype  \n",
      "---  ------         --------------  -----  \n",
      " 0   Movie          570 non-null    object \n",
      " 1   Year           570 non-null    object \n",
      " 2   MPAA Rating    570 non-null    object \n",
      " 3   Runtime (min)  570 non-null    int64  \n",
      " 4   Genres         570 non-null    object \n",
      " 5   IMDB Score     570 non-null    float64\n",
      " 6   Metascore      570 non-null    int64  \n",
      " 7   Link stub      570 non-null    object \n",
      "dtypes: float64(1), int64(2), object(5)\n",
      "memory usage: 35.8+ KB\n"
     ]
    }
   ],
   "source": [
    "rough_horror_df.info()"
   ]
  },
  {
   "cell_type": "code",
   "execution_count": 6,
   "metadata": {},
   "outputs": [
    {
     "name": "stdout",
     "output_type": "stream",
     "text": [
      "<class 'pandas.core.frame.DataFrame'>\n",
      "RangeIndex: 570 entries, 0 to 569\n",
      "Data columns (total 8 columns):\n",
      " #   Column         Non-Null Count  Dtype  \n",
      "---  ------         --------------  -----  \n",
      " 0   Movie          570 non-null    object \n",
      " 1   Year           570 non-null    int64  \n",
      " 2   MPAA Rating    570 non-null    object \n",
      " 3   Runtime (min)  570 non-null    int64  \n",
      " 4   Genres         570 non-null    object \n",
      " 5   IMDB Score     570 non-null    float64\n",
      " 6   Metascore      570 non-null    int64  \n",
      " 7   Link stub      570 non-null    object \n",
      "dtypes: float64(1), int64(3), object(4)\n",
      "memory usage: 35.8+ KB\n"
     ]
    }
   ],
   "source": [
    "rough_horror_df.loc[:,'Year']=rough_horror_df['Year'].str[-5:-1].astype(int)\n",
    "rough_horror_df.info()"
   ]
  },
  {
   "cell_type": "code",
   "execution_count": 7,
   "metadata": {},
   "outputs": [],
   "source": [
    "rough_horror_df.to_pickle('rough_horror_df.pkl')"
   ]
  },
  {
   "cell_type": "code",
   "execution_count": 9,
   "metadata": {},
   "outputs": [
    {
     "data": {
      "text/plain": [
       "'Alfred Hitchcock'"
      ]
     },
     "execution_count": 9,
     "metadata": {},
     "output_type": "execute_result"
    }
   ],
   "source": [
    "import re\n",
    "director_regex=re.compile('Director')\n",
    "direct=first_h.find(text=director_regex).findNext().text\n",
    "direct"
   ]
  },
  {
   "cell_type": "code",
   "execution_count": 3,
   "metadata": {},
   "outputs": [],
   "source": [
    "##will need to do this or something similar for director, stars, budget, usa gross,\n",
    "##cumulative worldwide goss (maybe add a function to this part for removing usa to get forgein)\n",
    "def get_value(soup, field_name):\n",
    "    \n",
    "    '''\n",
    "    Takes a string attribute of a movie on the page and returns the string in\n",
    "    the next sibling object (the value for that attribute) or None if nothing is found.\n",
    "    '''\n",
    "    \n",
    "    obj = soup.find(text=re.compile(field_name))\n",
    "    \n",
    "    if not obj: \n",
    "        return None\n",
    "    \n",
    "    # this works for most of the values\n",
    "    next_element = obj.findNext()\n",
    "    \n",
    "    if next_element:\n",
    "        return next_element.text \n",
    "    else:\n",
    "        return None"
   ]
  },
  {
   "cell_type": "code",
   "execution_count": 32,
   "metadata": {},
   "outputs": [
    {
     "name": "stdout",
     "output_type": "stream",
     "text": [
      "Alfred Hitchcock\n"
     ]
    }
   ],
   "source": [
    "print(get_value(first_h,'Director:'))"
   ]
  },
  {
   "cell_type": "code",
   "execution_count": 33,
   "metadata": {},
   "outputs": [
    {
     "name": "stdout",
     "output_type": "stream",
     "text": [
      "Anthony Perkins\n"
     ]
    }
   ],
   "source": [
    "print(get_value(first_h,'Stars:'))##will need to adjust to return multiple stars"
   ]
  },
  {
   "cell_type": "code",
   "execution_count": 34,
   "metadata": {},
   "outputs": [],
   "source": [
    "def get_movie_dict(link):\n",
    "    \"\"\"\n",
    "    From Imdb link stub, request movie html, parse with BeautifulSoup, and collect:\n",
    "        -Director\n",
    "        -Stars\n",
    "        -Budget\n",
    "        -Country of Origin\n",
    "        -based off novel\n",
    "        \n",
    "    Returns info as dictionary\n",
    "    \"\"\"\n",
    "    \n",
    "    base_url='https://www.imdb.com/'\n",
    "    \n",
    "    #url to be scraped\n",
    "    url=base_url+link\n",
    "    \n",
    "    #Request HTML and parse\n",
    "    response=requests.get(url)\n",
    "    page=responst.text\n",
    "    soup=BeautifulSoup(page,'html.parser')\n",
    "    \n",
    "    headers=['Director','Stars','Budget','Cumulative Worldwide Gross',\n",
    "            'Country','Novel Adaptation','Limk stub']\n",
    "    \n",
    "    #director\n",
    "    director=get_value(soup,'Director')\n",
    "    \n",
    "    #Star\n",
    "    stars=[]\n",
    "    star=get_value(soup,'Stars:')\n",
    "    star2_regex=re.compile('Stars:')\n",
    "    star2=soupy.find(text=star2_regex).findNext().findNext().text\n",
    "    star3_regex=re.compile('Stars:')\n",
    "    star3=soupy.find(text=star3_regex).findNext().findNext().findNext().text\n",
    "    stars.append(star)\n",
    "    stars.append(star2)\n",
    "    stars.append(star3)\n",
    "    \n",
    "    #Budget\n",
    "    bud_str=soup.find('h3',class_='subheading').findNext().text.replace('\\nBudget:$','').replace('\\n            (estimated)\\n','').replace(',','')\n",
    "    budget=int(bud_str)\n",
    "    \n",
    "    \n",
    "    #Country of origin\n",
    "    country= get_value(soup,'Country')\n",
    "    \n",
    "    #novel adaptation\n",
    "    novel=soup.find('div',class_='credit_summary_item').findNext().findNext().findNext().text\n",
    "    adapt=adaptation(novel)\n",
    "    \n",
    "    #create dict and return\n",
    "    movie_dict=dict(zip(headers,[\n",
    "                                director,\n",
    "                                stars,\n",
    "                                budget,\n",
    "                                country,\n",
    "                                adapt,link]))\n",
    "    return movie_dict"
   ]
  },
  {
   "cell_type": "code",
   "execution_count": null,
   "metadata": {},
   "outputs": [],
   "source": []
  },
  {
   "cell_type": "code",
   "execution_count": 35,
   "metadata": {},
   "outputs": [],
   "source": [
    "# based on novel or not, if 'novel' in writers section 1, if not 0"
   ]
  },
  {
   "cell_type": "code",
   "execution_count": 10,
   "metadata": {},
   "outputs": [],
   "source": [
    "url='https://www.imdb.com/title/tt5215952/?ref_=adv_li_tt'\n",
    "response=requests.get(url)\n",
    "page=response.text\n",
    "soupy=BeautifulSoup(page,'html.parser')\n"
   ]
  },
  {
   "cell_type": "code",
   "execution_count": 11,
   "metadata": {},
   "outputs": [
    {
     "data": {
      "text/plain": [
       "'Alfred Hitchcock'"
      ]
     },
     "execution_count": 11,
     "metadata": {},
     "output_type": "execute_result"
    }
   ],
   "source": [
    "title_regex=re.compile('title_wrapper')\n",
    "title=soupy.find(text=director_regex).findNext().text\n",
    "direct"
   ]
  },
  {
   "cell_type": "code",
   "execution_count": 12,
   "metadata": {},
   "outputs": [
    {
     "data": {
      "text/plain": [
       "'The Wailing\\xa0(2016) '"
      ]
     },
     "execution_count": 12,
     "metadata": {},
     "output_type": "execute_result"
    }
   ],
   "source": [
    "#find title\n",
    "title=soupy.find('div',class_='title_wrapper').find('h1',class_='').text\n",
    "title"
   ]
  },
  {
   "cell_type": "code",
   "execution_count": 13,
   "metadata": {},
   "outputs": [
    {
     "ename": "NameError",
     "evalue": "name 'get_value' is not defined",
     "output_type": "error",
     "traceback": [
      "\u001b[0;31m---------------------------------------------------------------------------\u001b[0m",
      "\u001b[0;31mNameError\u001b[0m                                 Traceback (most recent call last)",
      "\u001b[0;32m<ipython-input-13-fcd24dbfd656>\u001b[0m in \u001b[0;36m<module>\u001b[0;34m\u001b[0m\n\u001b[1;32m      1\u001b[0m \u001b[0;31m#find director\u001b[0m\u001b[0;34m\u001b[0m\u001b[0;34m\u001b[0m\u001b[0;34m\u001b[0m\u001b[0m\n\u001b[0;32m----> 2\u001b[0;31m \u001b[0mprint\u001b[0m\u001b[0;34m(\u001b[0m\u001b[0mget_value\u001b[0m\u001b[0;34m(\u001b[0m\u001b[0msoupy\u001b[0m\u001b[0;34m,\u001b[0m\u001b[0;34m'Director:'\u001b[0m\u001b[0;34m)\u001b[0m\u001b[0;34m)\u001b[0m\u001b[0;34m\u001b[0m\u001b[0;34m\u001b[0m\u001b[0m\n\u001b[0m",
      "\u001b[0;31mNameError\u001b[0m: name 'get_value' is not defined"
     ]
    }
   ],
   "source": [
    "#find director\n",
    "print(get_value(soupy,'Director:'))"
   ]
  },
  {
   "cell_type": "code",
   "execution_count": 17,
   "metadata": {},
   "outputs": [
    {
     "data": {
      "text/plain": [
       "0"
      ]
     },
     "execution_count": 17,
     "metadata": {},
     "output_type": "execute_result"
    }
   ],
   "source": [
    "#find if based on novel\n",
    "novel=soupy.find('div',class_='credit_summary_item').findNext().findNext().findNext().text\n",
    "def adaptation(novel):\n",
    "    \"\"\"returns if a movie is a novel adaptation in a binary value\"\"\"\n",
    "    if \"novel\" in novel:\n",
    "        return 1\n",
    "    else:\n",
    "        return 0\n",
    "adaptation(novel)"
   ]
  },
  {
   "cell_type": "code",
   "execution_count": 14,
   "metadata": {},
   "outputs": [
    {
     "data": {
      "text/plain": [
       "'6420000'"
      ]
     },
     "execution_count": 14,
     "metadata": {},
     "output_type": "execute_result"
    }
   ],
   "source": [
    "#find budget will need to convert to int\n",
    "soupy.find('h3',class_='subheading').findNext().text.replace('\\nBudget:$','').replace('\\n            (estimated)\\n','').replace(',','')"
   ]
  },
  {
   "cell_type": "code",
   "execution_count": null,
   "metadata": {},
   "outputs": [],
   "source": []
  },
  {
   "cell_type": "code",
   "execution_count": 19,
   "metadata": {},
   "outputs": [
    {
     "name": "stdout",
     "output_type": "stream",
     "text": [
      "South Korea\n"
     ]
    }
   ],
   "source": [
    "#country\n",
    "print(get_value(soupy,'Country'))"
   ]
  },
  {
   "cell_type": "code",
   "execution_count": 20,
   "metadata": {},
   "outputs": [
    {
     "data": {
      "text/plain": [
       "'22May2016'"
      ]
     },
     "execution_count": 20,
     "metadata": {},
     "output_type": "execute_result"
    }
   ],
   "source": [
    "#find worldwide gross, will need to convert to int\n",
    "soupy.find('h3',class_='subheading').findNext().findNext().findNext().findNext().findNext().findNext().text.replace('\\nCumulative Worldwide Gross: $','').replace(' ','').replace(',','')"
   ]
  },
  {
   "cell_type": "code",
   "execution_count": 21,
   "metadata": {},
   "outputs": [
    {
     "name": "stdout",
     "output_type": "stream",
     "text": [
      "Jun Kunimura\n"
     ]
    }
   ],
   "source": [
    "print(get_value(soupy,'Stars:'))"
   ]
  },
  {
   "cell_type": "code",
   "execution_count": 16,
   "metadata": {},
   "outputs": [
    {
     "data": {
      "text/plain": [
       "'Jun Kunimura'"
      ]
     },
     "execution_count": 16,
     "metadata": {},
     "output_type": "execute_result"
    }
   ],
   "source": [
    "star2_regex=re.compile('Stars:')\n",
    "star2=soupy.find(text=star2_regex).findNext().text\n",
    "star2"
   ]
  },
  {
   "cell_type": "code",
   "execution_count": null,
   "metadata": {},
   "outputs": [],
   "source": []
  },
  {
   "cell_type": "code",
   "execution_count": 2,
   "metadata": {},
   "outputs": [
    {
     "data": {
      "text/plain": [
       "200"
      ]
     },
     "execution_count": 2,
     "metadata": {},
     "output_type": "execute_result"
    }
   ],
   "source": [
    "url=\"https://www.imdb.com/title/tt0054215/ratings?ref_=tt_ov_rt\"\n",
    "response=requests.get(url)\n",
    "response.status_code"
   ]
  },
  {
   "cell_type": "code",
   "execution_count": 3,
   "metadata": {},
   "outputs": [],
   "source": [
    "Psycho=response.text\n",
    "psycho_soup=BeautifulSoup(Psycho, 'html.parser')"
   ]
  },
  {
   "cell_type": "code",
   "execution_count": 5,
   "metadata": {},
   "outputs": [
    {
     "data": {
      "text/plain": [
       "<table cellpadding=\"0\">\n",
       "<tr>\n",
       "<th align=\"right\" class=\"firstTableCoulmn\">\n",
       "<div class=\"tableHeadings\"><div class=\"rightAligned\">Rating</div></div>\n",
       "</th>\n",
       "<th></th>\n",
       "<th align=\"left\" class=\"firstTable\">\n",
       "<div class=\"tableHeadings\"><div class=\"leftAligned\">Votes</div></div>\n",
       "</th>\n",
       "</tr>\n",
       "<tr>\n",
       "<td align=\"right\">\n",
       "<div class=\"allText\"><div class=\"rightAligned\">10</div></div>\n",
       "</td>\n",
       "<td height=\"33\">\n",
       "<div class=\"rectangle\" style=\"width:74.9590835571289%\"></div>\n",
       "<div class=\"allText\">\n",
       "<div class=\"topAligned\">\n",
       "                                 \n",
       "                                    24.0%\n",
       "                            </div>\n",
       "</div>\n",
       "</td>\n",
       "<td>\n",
       "<div class=\"allText\">\n",
       "<div class=\"leftAligned\">144,802</div>\n",
       "</div>\n",
       "</td>\n",
       "</tr>\n",
       "<tr>\n",
       "<td align=\"right\">\n",
       "<div class=\"allText\"><div class=\"rightAligned\">9</div></div>\n",
       "</td>\n",
       "<td height=\"33\">\n",
       "<div class=\"rectangle\" style=\"width:87%\"></div>\n",
       "<div class=\"allText\">\n",
       "<div class=\"topAligned\">\n",
       "                                 \n",
       "                                    27.9%\n",
       "                            </div>\n",
       "</div>\n",
       "</td>\n",
       "<td>\n",
       "<div class=\"allText\">\n",
       "<div class=\"leftAligned\">168,062</div>\n",
       "</div>\n",
       "</td>\n",
       "</tr>\n",
       "<tr>\n",
       "<td align=\"right\">\n",
       "<div class=\"allText\"><div class=\"rightAligned\">8</div></div>\n",
       "</td>\n",
       "<td height=\"33\">\n",
       "<div class=\"rectangle\" style=\"width:84.58560180664062%\"></div>\n",
       "<div class=\"allText\">\n",
       "<div class=\"topAligned\">\n",
       "                                 \n",
       "                                    27.1%\n",
       "                            </div>\n",
       "</div>\n",
       "</td>\n",
       "<td>\n",
       "<div class=\"allText\">\n",
       "<div class=\"leftAligned\">163,398</div>\n",
       "</div>\n",
       "</td>\n",
       "</tr>\n",
       "<tr>\n",
       "<td align=\"right\">\n",
       "<div class=\"allText\"><div class=\"rightAligned\">7</div></div>\n",
       "</td>\n",
       "<td height=\"33\">\n",
       "<div class=\"rectangle\" style=\"width:40.04664993286133%\"></div>\n",
       "<div class=\"allText\">\n",
       "<div class=\"topAligned\">\n",
       "                                 \n",
       "                                    12.8%\n",
       "                            </div>\n",
       "</div>\n",
       "</td>\n",
       "<td>\n",
       "<div class=\"allText\">\n",
       "<div class=\"leftAligned\">77,360</div>\n",
       "</div>\n",
       "</td>\n",
       "</tr>\n",
       "<tr>\n",
       "<td align=\"right\">\n",
       "<div class=\"allText\"><div class=\"rightAligned\">6</div></div>\n",
       "</td>\n",
       "<td height=\"33\">\n",
       "<div class=\"rectangle\" style=\"width:13.10523509979248%\"></div>\n",
       "<div class=\"allText\">\n",
       "<div class=\"topAligned\">\n",
       "                                 \n",
       "                                    4.2%\n",
       "                            </div>\n",
       "</div>\n",
       "</td>\n",
       "<td>\n",
       "<div class=\"allText\">\n",
       "<div class=\"leftAligned\">25,316</div>\n",
       "</div>\n",
       "</td>\n",
       "</tr>\n",
       "<tr>\n",
       "<td align=\"right\">\n",
       "<div class=\"allText\"><div class=\"rightAligned\">5</div></div>\n",
       "</td>\n",
       "<td height=\"33\">\n",
       "<div class=\"rectangle\" style=\"width:5.175625801086426%\"></div>\n",
       "<div class=\"allText\">\n",
       "<div class=\"topAligned\">\n",
       "                                 \n",
       "                                    1.7%\n",
       "                            </div>\n",
       "</div>\n",
       "</td>\n",
       "<td>\n",
       "<div class=\"allText\">\n",
       "<div class=\"leftAligned\">9,998</div>\n",
       "</div>\n",
       "</td>\n",
       "</tr>\n",
       "<tr>\n",
       "<td align=\"right\">\n",
       "<div class=\"allText\"><div class=\"rightAligned\">4</div></div>\n",
       "</td>\n",
       "<td height=\"33\">\n",
       "<div class=\"rectangle\" style=\"width:2.305684804916382%\"></div>\n",
       "<div class=\"allText\">\n",
       "<div class=\"topAligned\">\n",
       "                                 \n",
       "                                    0.7%\n",
       "                            </div>\n",
       "</div>\n",
       "</td>\n",
       "<td>\n",
       "<div class=\"allText\">\n",
       "<div class=\"leftAligned\">4,454</div>\n",
       "</div>\n",
       "</td>\n",
       "</tr>\n",
       "<tr>\n",
       "<td align=\"right\">\n",
       "<div class=\"allText\"><div class=\"rightAligned\">3</div></div>\n",
       "</td>\n",
       "<td height=\"33\">\n",
       "<div class=\"rectangle\" style=\"width:1.2620699405670166%\"></div>\n",
       "<div class=\"allText\">\n",
       "<div class=\"topAligned\">\n",
       "                                 \n",
       "                                    0.4%\n",
       "                            </div>\n",
       "</div>\n",
       "</td>\n",
       "<td>\n",
       "<div class=\"allText\">\n",
       "<div class=\"leftAligned\">2,438</div>\n",
       "</div>\n",
       "</td>\n",
       "</tr>\n",
       "<tr>\n",
       "<td align=\"right\">\n",
       "<div class=\"allText\"><div class=\"rightAligned\">2</div></div>\n",
       "</td>\n",
       "<td height=\"33\">\n",
       "<div class=\"rectangle\" style=\"width:0.9038450121879578%\"></div>\n",
       "<div class=\"allText\">\n",
       "<div class=\"topAligned\">\n",
       "                                 \n",
       "                                    0.3%\n",
       "                            </div>\n",
       "</div>\n",
       "</td>\n",
       "<td>\n",
       "<div class=\"allText\">\n",
       "<div class=\"leftAligned\">1,746</div>\n",
       "</div>\n",
       "</td>\n",
       "</tr>\n",
       "<tr>\n",
       "<td align=\"right\">\n",
       "<div class=\"allText\"><div class=\"rightAligned\">1</div></div>\n",
       "</td>\n",
       "<td height=\"33\">\n",
       "<div class=\"rectangle\" style=\"width:2.385922908782959%\"></div>\n",
       "<div class=\"allText\">\n",
       "<div class=\"topAligned\">\n",
       "                                 \n",
       "                                    0.8%\n",
       "                            </div>\n",
       "</div>\n",
       "</td>\n",
       "<td>\n",
       "<div class=\"allText\">\n",
       "<div class=\"leftAligned\">4,609</div>\n",
       "</div>\n",
       "</td>\n",
       "</tr>\n",
       "</table>"
      ]
     },
     "execution_count": 5,
     "metadata": {},
     "output_type": "execute_result"
    }
   ],
   "source": [
    "table=psycho_soup.find('table')\n",
    "table"
   ]
  },
  {
   "cell_type": "code",
   "execution_count": null,
   "metadata": {},
   "outputs": [],
   "source": [
    "for tr in table.find_all('tr'):\n",
    "    tds=tr.find_all('td')"
   ]
  }
 ],
 "metadata": {
  "kernelspec": {
   "display_name": "Python 3",
   "language": "python",
   "name": "python3"
  },
  "language_info": {
   "codemirror_mode": {
    "name": "ipython",
    "version": 3
   },
   "file_extension": ".py",
   "mimetype": "text/x-python",
   "name": "python",
   "nbconvert_exporter": "python",
   "pygments_lexer": "ipython3",
   "version": "3.8.6"
  }
 },
 "nbformat": 4,
 "nbformat_minor": 4
}
