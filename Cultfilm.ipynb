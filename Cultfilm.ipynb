{
 "cells": [
  {
   "cell_type": "code",
   "execution_count": 1,
   "metadata": {},
   "outputs": [],
   "source": [
    "from bs4 import BeautifulSoup\n",
    "import requests\n",
    "from IPython.core.display import display, HTML\n",
    "import pandas as pd\n",
    "import pickle"
   ]
  },
  {
   "cell_type": "code",
   "execution_count": 2,
   "metadata": {},
   "outputs": [
    {
     "data": {
      "text/plain": [
       "200"
      ]
     },
     "execution_count": 2,
     "metadata": {},
     "output_type": "execute_result"
    }
   ],
   "source": [
    "url=\"https://www.imdb.com/search/keyword/?keywords=cult-film&ref_=kw_ref_rt_vt&mode=detail&page=1&title_type=movie&genres=Horror&user_rating=2.0%2C&num_votes=10000%2C&sort=user_rating,desc\"\n",
    "response=requests.get(url)\n",
    "response.status_code"
   ]
  },
  {
   "cell_type": "code",
   "execution_count": 3,
   "metadata": {},
   "outputs": [],
   "source": [
    "url=\"https://www.imdb.com/search/keyword/?keywords=cult-film&ref_=kw_ref_rt_vt&mode=detail&page=1&title_type=movie&genres=Horror&user_rating=2.0%2C&num_votes=10000%2C&sort=user_rating,desc\"\n",
    "response=requests.get(url)\n",
    "Cult_Horror=response.text\n",
    "Cult_soup=BeautifulSoup(Cult_Horror,'html.parser')\n",
    "cult_con=Cult_soup.find_all('div',class_=\"lister-item mode-detail\")"
   ]
  },
  {
   "cell_type": "code",
   "execution_count": 4,
   "metadata": {},
   "outputs": [],
   "source": [
    "url2=\"https://www.imdb.com/search/keyword/?keywords=cult-film&ref_=kw_nxt&mode=detail&page=2&title_type=movie&genres=Horror&user_rating=2.0%2C&num_votes=10000%2C&sort=user_rating,desc\"\n",
    "response2=requests.get(url2)\n",
    "Cult_Horror2=response2.text\n",
    "Cult_soup2=BeautifulSoup(Cult_Horror2,'html.parser')\n",
    "cult_con2=Cult_soup2.find_all('div',class_=\"lister-item mode-detail\")"
   ]
  },
  {
   "cell_type": "code",
   "execution_count": 5,
   "metadata": {},
   "outputs": [],
   "source": [
    "url3=\"https://www.imdb.com/search/keyword/?keywords=cult-film&ref_=kw_nxt&mode=detail&page=3&title_type=movie&genres=Horror&user_rating=2.0%2C&num_votes=10000%2C&sort=user_rating,desc\"\n",
    "response3=requests.get(url3)\n",
    "Cult_Horror3=response3.text\n",
    "Cult_soup3=BeautifulSoup(Cult_Horror3,'html.parser')\n",
    "cult_con3=Cult_soup3.find_all('div',class_=\"lister-item mode-detail\")"
   ]
  },
  {
   "cell_type": "code",
   "execution_count": 6,
   "metadata": {},
   "outputs": [],
   "source": [
    "url4=\"https://www.imdb.com/search/keyword/?keywords=cult-film&ref_=kw_nxt&mode=detail&page=4&title_type=movie&genres=Horror&user_rating=2.0%2C&num_votes=10000%2C&sort=user_rating,desc\"\n",
    "response4=requests.get(url4)\n",
    "Cult_Horror4=response4.text\n",
    "Cult_soup4=BeautifulSoup(Cult_Horror4,'html.parser')\n",
    "cult_con4=Cult_soup4.find_all('div',class_=\"lister-item mode-detail\")"
   ]
  },
  {
   "cell_type": "code",
   "execution_count": 7,
   "metadata": {},
   "outputs": [],
   "source": [
    "url5=\"https://www.imdb.com/search/keyword/?keywords=cult-film&ref_=kw_nxt&mode=detail&page=5&title_type=movie&genres=Horror&user_rating=2.0%2C&num_votes=10000%2C&sort=user_rating,desc\"\n",
    "response5=requests.get(url5)\n",
    "Cult_Horror5=response5.text\n",
    "Cult_soup5=BeautifulSoup(Cult_Horror5,'html.parser')\n",
    "cult_con5=Cult_soup5.find_all('div',class_='lister-item mode-detail')"
   ]
  },
  {
   "cell_type": "code",
   "execution_count": 8,
   "metadata": {},
   "outputs": [],
   "source": [
    "url6=\"https://www.imdb.com/search/keyword/?keywords=cult-film&ref_=kw_nxt&mode=detail&page=6&title_type=movie&genres=Horror&user_rating=2.0%2C&num_votes=10000%2C&sort=user_rating,desc\"\n",
    "response6=requests.get(url6)\n",
    "Cult_Horror6=response6.text\n",
    "Cult_soup6=BeautifulSoup(Cult_Horror6,'html.parser')\n",
    "cult_con6=Cult_soup6.find_all('div',class_='lister-item mode-detail')"
   ]
  },
  {
   "cell_type": "code",
   "execution_count": 9,
   "metadata": {},
   "outputs": [],
   "source": [
    "url7=\"https://www.imdb.com/search/keyword/?keywords=cult-film&ref_=kw_nxt&mode=detail&page=7&title_type=movie&genres=Horror&user_rating=2.0%2C&num_votes=10000%2C&sort=user_rating,desc\"\n",
    "response7=requests.get(url7)\n",
    "Cult_Horror7=response7.text\n",
    "Cult_soup7=BeautifulSoup(Cult_Horror7,'html.parser')\n",
    "cult_con7=Cult_soup7.find_all('div',class_='lister-item mode-detail')"
   ]
  },
  {
   "cell_type": "code",
   "execution_count": null,
   "metadata": {},
   "outputs": [],
   "source": []
  },
  {
   "cell_type": "code",
   "execution_count": 10,
   "metadata": {},
   "outputs": [],
   "source": [
    "names=[]\n",
    "def getinfo(containers):\n",
    "    for container in containers:\n",
    "        if container.find('div',class_='ratings-metascore') is not None:\n",
    "            name=container.h3.a.text\n",
    "            names.append(name)\n",
    "getinfo(cult_con)\n",
    "getinfo(cult_con2)\n",
    "getinfo(cult_con3)\n",
    "getinfo(cult_con4)\n",
    "getinfo(cult_con5)\n",
    "getinfo(cult_con6)\n",
    "getinfo(cult_con7)"
   ]
  },
  {
   "cell_type": "code",
   "execution_count": 11,
   "metadata": {},
   "outputs": [
    {
     "data": {
      "text/html": [
       "<div>\n",
       "<style scoped>\n",
       "    .dataframe tbody tr th:only-of-type {\n",
       "        vertical-align: middle;\n",
       "    }\n",
       "\n",
       "    .dataframe tbody tr th {\n",
       "        vertical-align: top;\n",
       "    }\n",
       "\n",
       "    .dataframe thead th {\n",
       "        text-align: right;\n",
       "    }\n",
       "</style>\n",
       "<table border=\"1\" class=\"dataframe\">\n",
       "  <thead>\n",
       "    <tr style=\"text-align: right;\">\n",
       "      <th></th>\n",
       "      <th>Movie</th>\n",
       "      <th>Cult Classic</th>\n",
       "    </tr>\n",
       "  </thead>\n",
       "  <tbody>\n",
       "    <tr>\n",
       "      <th>0</th>\n",
       "      <td>Psycho</td>\n",
       "      <td>1</td>\n",
       "    </tr>\n",
       "    <tr>\n",
       "      <th>1</th>\n",
       "      <td>Alien</td>\n",
       "      <td>1</td>\n",
       "    </tr>\n",
       "    <tr>\n",
       "      <th>2</th>\n",
       "      <td>The Shining</td>\n",
       "      <td>1</td>\n",
       "    </tr>\n",
       "    <tr>\n",
       "      <th>3</th>\n",
       "      <td>The Thing</td>\n",
       "      <td>1</td>\n",
       "    </tr>\n",
       "    <tr>\n",
       "      <th>4</th>\n",
       "      <td>What Ever Happened to Baby Jane?</td>\n",
       "      <td>1</td>\n",
       "    </tr>\n",
       "    <tr>\n",
       "      <th>...</th>\n",
       "      <td>...</td>\n",
       "      <td>...</td>\n",
       "    </tr>\n",
       "    <tr>\n",
       "      <th>270</th>\n",
       "      <td>Halloween: Resurrection</td>\n",
       "      <td>1</td>\n",
       "    </tr>\n",
       "    <tr>\n",
       "      <th>271</th>\n",
       "      <td>Exorcist II: The Heretic</td>\n",
       "      <td>1</td>\n",
       "    </tr>\n",
       "    <tr>\n",
       "      <th>272</th>\n",
       "      <td>Dragon Wars: D-War</td>\n",
       "      <td>1</td>\n",
       "    </tr>\n",
       "    <tr>\n",
       "      <th>273</th>\n",
       "      <td>BloodRayne</td>\n",
       "      <td>1</td>\n",
       "    </tr>\n",
       "    <tr>\n",
       "      <th>274</th>\n",
       "      <td>Alone in the Dark</td>\n",
       "      <td>1</td>\n",
       "    </tr>\n",
       "  </tbody>\n",
       "</table>\n",
       "<p>275 rows × 2 columns</p>\n",
       "</div>"
      ],
      "text/plain": [
       "                                Movie  Cult Classic\n",
       "0                              Psycho             1\n",
       "1                               Alien             1\n",
       "2                         The Shining             1\n",
       "3                           The Thing             1\n",
       "4    What Ever Happened to Baby Jane?             1\n",
       "..                                ...           ...\n",
       "270           Halloween: Resurrection             1\n",
       "271          Exorcist II: The Heretic             1\n",
       "272                Dragon Wars: D-War             1\n",
       "273                        BloodRayne             1\n",
       "274                 Alone in the Dark             1\n",
       "\n",
       "[275 rows x 2 columns]"
      ]
     },
     "execution_count": 11,
     "metadata": {},
     "output_type": "execute_result"
    }
   ],
   "source": [
    "cult_df1=pd.DataFrame({'Movie':names})\n",
    "cult_df1['Cult Classic']=1\n",
    "cult_df1"
   ]
  },
  {
   "cell_type": "code",
   "execution_count": 12,
   "metadata": {},
   "outputs": [],
   "source": [
    "cult_df1.to_pickle('cult_df1.pkl')"
   ]
  },
  {
   "cell_type": "code",
   "execution_count": null,
   "metadata": {},
   "outputs": [],
   "source": []
  }
 ],
 "metadata": {
  "kernelspec": {
   "display_name": "Python 3",
   "language": "python",
   "name": "python3"
  },
  "language_info": {
   "codemirror_mode": {
    "name": "ipython",
    "version": 3
   },
   "file_extension": ".py",
   "mimetype": "text/x-python",
   "name": "python",
   "nbconvert_exporter": "python",
   "pygments_lexer": "ipython3",
   "version": "3.8.6"
  }
 },
 "nbformat": 4,
 "nbformat_minor": 4
}
