{
 "cells": [
  {
   "cell_type": "code",
   "execution_count": 1,
   "metadata": {},
   "outputs": [],
   "source": [
    "from bs4 import BeautifulSoup\n",
    "import requests\n",
    "from IPython.core.display import display, HTML\n",
    "import pandas as pd\n",
    "import pickle"
   ]
  },
  {
   "cell_type": "code",
   "execution_count": 2,
   "metadata": {},
   "outputs": [
    {
     "data": {
      "text/plain": [
       "200"
      ]
     },
     "execution_count": 2,
     "metadata": {},
     "output_type": "execute_result"
    }
   ],
   "source": [
    "url=\"https://www.imdb.com/search/keyword/?keywords=monster&ref_=kw_ref_rt_vt&mode=detail&page=1&title_type=movie&genres=Horror&user_rating=2.0%2C&num_votes=10000%2C&sort=user_rating,desc\"\n",
    "response=requests.get(url)\n",
    "response.status_code"
   ]
  },
  {
   "cell_type": "code",
   "execution_count": 3,
   "metadata": {},
   "outputs": [],
   "source": [
    "Monster_Horror=response.text\n",
    "Monster_soup=BeautifulSoup(Monster_Horror,'html.parser')\n",
    "monster_con=Monster_soup.find_all('div',class_=\"lister-item mode-detail\")"
   ]
  },
  {
   "cell_type": "code",
   "execution_count": 4,
   "metadata": {},
   "outputs": [],
   "source": [
    "url2=\"https://www.imdb.com/search/keyword/?keywords=monster&ref_=kw_nxt&mode=detail&page=2&title_type=movie&genres=Horror&user_rating=2.0%2C&num_votes=10000%2C&sort=user_rating,desc\"\n",
    "response2=requests.get(url2)\n",
    "Monster_Horror2=response2.text\n",
    "Monster_soup2=BeautifulSoup(Monster_Horror2,'html.parser')\n",
    "monster_con2=Monster_soup2.find_all('div',class_=\"lister-item mode-detail\")"
   ]
  },
  {
   "cell_type": "code",
   "execution_count": 5,
   "metadata": {},
   "outputs": [],
   "source": [
    "url3=\"https://www.imdb.com/search/keyword/?keywords=monster&ref_=kw_nxt&mode=detail&page=3&title_type=movie&genres=Horror&user_rating=2.0%2C&num_votes=10000%2C&sort=user_rating,desc\"\n",
    "response3=requests.get(url3)\n",
    "Monster_Horror3=response3.text\n",
    "Monster_soup3=BeautifulSoup(Monster_Horror3,'html.parser')\n",
    "monster_con3=Monster_soup3.find_all('div',class_=\"lister-item mode-detail\")"
   ]
  },
  {
   "cell_type": "code",
   "execution_count": 6,
   "metadata": {},
   "outputs": [],
   "source": [
    "url4=\"https://www.imdb.com/search/keyword/?keywords=monster&ref_=kw_nxt&mode=detail&page=4&title_type=movie&genres=Horror&user_rating=2.0%2C&num_votes=10000%2C&sort=user_rating,desc\"\n",
    "response4=requests.get(url4)\n",
    "Monster_Horror4=response4.text\n",
    "Monster_soup4=BeautifulSoup(Monster_Horror4,'html.parser')\n",
    "monster_con4=Monster_soup4.find_all('div',class_=\"lister-item mode-detail\")"
   ]
  },
  {
   "cell_type": "code",
   "execution_count": 7,
   "metadata": {},
   "outputs": [],
   "source": [
    "url5=\"https://www.imdb.com/search/keyword/?keywords=monster&ref_=kw_nxt&mode=detail&page=5&title_type=movie&genres=Horror&user_rating=2.0%2C&num_votes=10000%2C&sort=user_rating,desc\"\n",
    "response5=requests.get(url5)\n",
    "Monster_Horror5=response5.text\n",
    "Monster_soup5=BeautifulSoup(Monster_Horror5,'html.parser')\n",
    "monster_con5=Monster_soup5.find_all('div',class_=\"lister-item mode-detail\")"
   ]
  },
  {
   "cell_type": "code",
   "execution_count": 8,
   "metadata": {},
   "outputs": [],
   "source": [
    "names=[]\n",
    "def getinfo(containers):\n",
    "    for container in containers:\n",
    "        if container.find('div',class_='ratings-metascore') is not None:\n",
    "            name=container.h3.a.text\n",
    "            names.append(name)\n",
    "getinfo(monster_con)\n",
    "getinfo(monster_con2)\n",
    "getinfo(monster_con3)\n",
    "getinfo(monster_con4)\n",
    "getinfo(monster_con5)"
   ]
  },
  {
   "cell_type": "code",
   "execution_count": 9,
   "metadata": {},
   "outputs": [
    {
     "data": {
      "text/html": [
       "<div>\n",
       "<style scoped>\n",
       "    .dataframe tbody tr th:only-of-type {\n",
       "        vertical-align: middle;\n",
       "    }\n",
       "\n",
       "    .dataframe tbody tr th {\n",
       "        vertical-align: top;\n",
       "    }\n",
       "\n",
       "    .dataframe thead th {\n",
       "        text-align: right;\n",
       "    }\n",
       "</style>\n",
       "<table border=\"1\" class=\"dataframe\">\n",
       "  <thead>\n",
       "    <tr style=\"text-align: right;\">\n",
       "      <th></th>\n",
       "      <th>Movie</th>\n",
       "      <th>Creature Feature</th>\n",
       "    </tr>\n",
       "  </thead>\n",
       "  <tbody>\n",
       "    <tr>\n",
       "      <th>0</th>\n",
       "      <td>Alien</td>\n",
       "      <td>1</td>\n",
       "    </tr>\n",
       "    <tr>\n",
       "      <th>1</th>\n",
       "      <td>The Thing</td>\n",
       "      <td>1</td>\n",
       "    </tr>\n",
       "    <tr>\n",
       "      <th>2</th>\n",
       "      <td>King Kong</td>\n",
       "      <td>1</td>\n",
       "    </tr>\n",
       "    <tr>\n",
       "      <th>3</th>\n",
       "      <td>Dawn of the Dead</td>\n",
       "      <td>1</td>\n",
       "    </tr>\n",
       "    <tr>\n",
       "      <th>4</th>\n",
       "      <td>Evil Dead II</td>\n",
       "      <td>1</td>\n",
       "    </tr>\n",
       "    <tr>\n",
       "      <th>...</th>\n",
       "      <td>...</td>\n",
       "      <td>...</td>\n",
       "    </tr>\n",
       "    <tr>\n",
       "      <th>187</th>\n",
       "      <td>V/H/S Viral</td>\n",
       "      <td>1</td>\n",
       "    </tr>\n",
       "    <tr>\n",
       "      <th>188</th>\n",
       "      <td>Dragon Wars: D-War</td>\n",
       "      <td>1</td>\n",
       "    </tr>\n",
       "    <tr>\n",
       "      <th>189</th>\n",
       "      <td>Slender Man</td>\n",
       "      <td>1</td>\n",
       "    </tr>\n",
       "    <tr>\n",
       "      <th>190</th>\n",
       "      <td>Alone in the Dark</td>\n",
       "      <td>1</td>\n",
       "    </tr>\n",
       "    <tr>\n",
       "      <th>191</th>\n",
       "      <td>House of the Dead</td>\n",
       "      <td>1</td>\n",
       "    </tr>\n",
       "  </tbody>\n",
       "</table>\n",
       "<p>192 rows × 2 columns</p>\n",
       "</div>"
      ],
      "text/plain": [
       "                  Movie  Creature Feature\n",
       "0                 Alien                 1\n",
       "1             The Thing                 1\n",
       "2             King Kong                 1\n",
       "3      Dawn of the Dead                 1\n",
       "4          Evil Dead II                 1\n",
       "..                  ...               ...\n",
       "187         V/H/S Viral                 1\n",
       "188  Dragon Wars: D-War                 1\n",
       "189         Slender Man                 1\n",
       "190   Alone in the Dark                 1\n",
       "191   House of the Dead                 1\n",
       "\n",
       "[192 rows x 2 columns]"
      ]
     },
     "execution_count": 9,
     "metadata": {},
     "output_type": "execute_result"
    }
   ],
   "source": [
    "monster_df1=pd.DataFrame({'Movie':names})\n",
    "monster_df1['Creature Feature']=1\n",
    "monster_df1"
   ]
  },
  {
   "cell_type": "code",
   "execution_count": 10,
   "metadata": {},
   "outputs": [],
   "source": [
    "monster_df1.to_pickle('monster_df1.pkl')"
   ]
  },
  {
   "cell_type": "code",
   "execution_count": null,
   "metadata": {},
   "outputs": [],
   "source": []
  }
 ],
 "metadata": {
  "kernelspec": {
   "display_name": "Python 3",
   "language": "python",
   "name": "python3"
  },
  "language_info": {
   "codemirror_mode": {
    "name": "ipython",
    "version": 3
   },
   "file_extension": ".py",
   "mimetype": "text/x-python",
   "name": "python",
   "nbconvert_exporter": "python",
   "pygments_lexer": "ipython3",
   "version": "3.8.6"
  }
 },
 "nbformat": 4,
 "nbformat_minor": 4
}
