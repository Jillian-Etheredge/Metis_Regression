{
 "cells": [
  {
   "cell_type": "code",
   "execution_count": 1,
   "metadata": {},
   "outputs": [],
   "source": [
    "from bs4 import BeautifulSoup\n",
    "import requests\n",
    "from IPython.core.display import display, HTML\n",
    "import pandas as pd\n",
    "import pickle"
   ]
  },
  {
   "cell_type": "code",
   "execution_count": 2,
   "metadata": {},
   "outputs": [
    {
     "data": {
      "text/plain": [
       "200"
      ]
     },
     "execution_count": 2,
     "metadata": {},
     "output_type": "execute_result"
    }
   ],
   "source": [
    "url='https://www.imdb.com/search/keyword/?keywords=murder&ref_=kw_ref_rt_vt&mode=detail&page=1&title_type=movie&genres=Horror&user_rating=2.0%2C&num_votes=10000%2C&sort=user_rating,desc'\n",
    "response=requests.get(url)\n",
    "response.status_code"
   ]
  },
  {
   "cell_type": "code",
   "execution_count": 3,
   "metadata": {},
   "outputs": [],
   "source": [
    "Murder_Horror=response.text\n",
    "Murder_soup=BeautifulSoup(Murder_Horror,'html.parser')\n",
    "murder_con=Murder_soup.find_all('div',class_=\"lister-item mode-detail\")"
   ]
  },
  {
   "cell_type": "code",
   "execution_count": 4,
   "metadata": {},
   "outputs": [],
   "source": [
    "url2=\"https://www.imdb.com/search/keyword/?keywords=murder&ref_=kw_nxt&mode=detail&page=2&title_type=movie&genres=Horror&user_rating=2.0%2C&num_votes=10000%2C&sort=user_rating,desc\"\n",
    "response2=requests.get(url2)\n",
    "Murder_Horror2=response2.text\n",
    "Murder_soup2=BeautifulSoup(Murder_Horror2,'html.parser')\n",
    "murder_con2=Murder_soup2.find_all('div',class_=\"lister-item mode-detail\")"
   ]
  },
  {
   "cell_type": "code",
   "execution_count": 5,
   "metadata": {},
   "outputs": [],
   "source": [
    "url3=\"https://www.imdb.com/search/keyword/?keywords=murder&ref_=kw_nxt&mode=detail&page=3&title_type=movie&genres=Horror&user_rating=2.0%2C&num_votes=10000%2C&sort=user_rating,desc\"\n",
    "response3=requests.get(url3)\n",
    "Murder_Horror3=response3.text\n",
    "Murder_soup3=BeautifulSoup(Murder_Horror3,'html.parser')\n",
    "murder_con3=Murder_soup3.find_all('div',class_=\"lister-item mode-detail\")"
   ]
  },
  {
   "cell_type": "code",
   "execution_count": 6,
   "metadata": {},
   "outputs": [],
   "source": [
    "url4=\"https://www.imdb.com/search/keyword/?keywords=murder&ref_=kw_nxt&mode=detail&page=4&title_type=movie&genres=Horror&user_rating=2.0%2C&num_votes=10000%2C&sort=user_rating,desc\"\n",
    "response4=requests.get(url4)\n",
    "Murder_Horror4=response4.text\n",
    "Murder_soup4=BeautifulSoup(Murder_Horror4,'html.parser')\n",
    "murder_con4=Murder_soup4.find_all('div',class_=\"lister-item mode-detail\")"
   ]
  },
  {
   "cell_type": "code",
   "execution_count": 7,
   "metadata": {},
   "outputs": [],
   "source": [
    "url5=\"https://www.imdb.com/search/keyword/?keywords=murder&ref_=kw_nxt&mode=detail&page=5&title_type=movie&genres=Horror&user_rating=2.0%2C&num_votes=10000%2C&sort=user_rating,desc\"\n",
    "response5=requests.get(url5)\n",
    "Murder_Horror5=response5.text\n",
    "Murder_soup5=BeautifulSoup(Murder_Horror5,'html.parser')\n",
    "murder_con5=Murder_soup5.find_all('div',class_=\"lister-item mode-detail\")"
   ]
  },
  {
   "cell_type": "code",
   "execution_count": 8,
   "metadata": {},
   "outputs": [],
   "source": [
    "url6=\"https://www.imdb.com/search/keyword/?keywords=murder&ref_=kw_nxt&mode=detail&page=6&title_type=movie&genres=Horror&user_rating=2.0%2C&num_votes=10000%2C&sort=user_rating,desc\"\n",
    "response6=requests.get(url6)\n",
    "Murder_Horror6=response6.text\n",
    "Murder_soup6=BeautifulSoup(Murder_Horror6,'html.parser')\n",
    "murder_con6=Murder_soup6.find_all('div',class_=\"lister-item mode-detail\")"
   ]
  },
  {
   "cell_type": "code",
   "execution_count": 9,
   "metadata": {},
   "outputs": [],
   "source": [
    "url7=\"https://www.imdb.com/search/keyword/?keywords=murder&ref_=kw_nxt&mode=detail&page=7&title_type=movie&genres=Horror&user_rating=2.0%2C&num_votes=10000%2C&sort=user_rating,desc\"\n",
    "response7=requests.get(url7)\n",
    "Murder_Horror7=response7.text\n",
    "Murder_soup7=BeautifulSoup(Murder_Horror7,'html.parser')\n",
    "murder_con7=Murder_soup7.find_all('div',class_=\"lister-item mode-detail\")"
   ]
  },
  {
   "cell_type": "code",
   "execution_count": 10,
   "metadata": {},
   "outputs": [],
   "source": [
    "url8=\"https://www.imdb.com/search/keyword/?keywords=murder&ref_=kw_nxt&mode=detail&page=8&title_type=movie&genres=Horror&user_rating=2.0%2C&num_votes=10000%2C&sort=user_rating,desc\"\n",
    "response8=requests.get(url8)\n",
    "Murder_Horror8=response8.text\n",
    "Murder_soup8=BeautifulSoup(Murder_Horror8,'html.parser')\n",
    "murder_con8=Murder_soup8.find_all('div',class_=\"lister-item mode-detail\")"
   ]
  },
  {
   "cell_type": "code",
   "execution_count": 11,
   "metadata": {},
   "outputs": [],
   "source": [
    "url9=\"https://www.imdb.com/search/keyword/?keywords=murder&ref_=kw_nxt&mode=detail&page=9&title_type=movie&genres=Horror&user_rating=2.0%2C&num_votes=10000%2C&sort=user_rating,desc\"\n",
    "response9=requests.get(url9)\n",
    "Murder_Horror9=response9.text\n",
    "Murder_soup9=BeautifulSoup(Murder_Horror9,'html.parser')\n",
    "murder_con9=Murder_soup9.find_all('div',class_=\"lister-item mode-detail\")"
   ]
  },
  {
   "cell_type": "code",
   "execution_count": 12,
   "metadata": {},
   "outputs": [],
   "source": [
    "url10=\"https://www.imdb.com/search/keyword/?keywords=murder&ref_=kw_nxt&mode=detail&page=10&title_type=movie&genres=Horror&user_rating=2.0%2C&num_votes=10000%2C&sort=user_rating,desc\"\n",
    "response10=requests.get(url10)\n",
    "Murder_Horror10=response10.text\n",
    "Murder_soup10=BeautifulSoup(Murder_Horror10,'html.parser')\n",
    "murder_con10=Murder_soup10.find_all('div',class_=\"lister-item mode-detail\")"
   ]
  },
  {
   "cell_type": "code",
   "execution_count": 13,
   "metadata": {},
   "outputs": [],
   "source": [
    "url11=\"https://www.imdb.com/search/keyword/?keywords=murder&ref_=kw_nxt&mode=detail&page=11&title_type=movie&genres=Horror&user_rating=2.0%2C&num_votes=10000%2C&sort=user_rating,desc\"\n",
    "response11=requests.get(url11)\n",
    "Murder_Horror11=response11.text\n",
    "Murder_soup11=BeautifulSoup(Murder_Horror11,'html.parser')\n",
    "murder_con11=Murder_soup11.find_all('div',class_=\"lister-item mode-detail\")"
   ]
  },
  {
   "cell_type": "code",
   "execution_count": 14,
   "metadata": {},
   "outputs": [],
   "source": [
    "url12=\"https://www.imdb.com/search/keyword/?keywords=murder&ref_=kw_nxt&mode=detail&page=12&title_type=movie&genres=Horror&user_rating=2.0%2C&num_votes=10000%2C&sort=user_rating,desc\"\n",
    "response12=requests.get(url12)\n",
    "Murder_Horror12=response12.text\n",
    "Murder_soup12=BeautifulSoup(Murder_Horror12,'html.parser')\n",
    "murder_con12=Murder_soup12.find_all('div',class_=\"lister-item mode-detail\")"
   ]
  },
  {
   "cell_type": "code",
   "execution_count": 15,
   "metadata": {},
   "outputs": [],
   "source": [
    "url13=\"https://www.imdb.com/search/keyword/?keywords=murder&ref_=kw_nxt&mode=detail&page=13&title_type=movie&genres=Horror&user_rating=2.0%2C&num_votes=10000%2C&sort=user_rating,desc\"\n",
    "response13=requests.get(url13)\n",
    "Murder_Horror13=response13.text\n",
    "Murder_soup13=BeautifulSoup(Murder_Horror13,'html.parser')\n",
    "murder_con13=Murder_soup13.find_all('div',class_=\"lister-item mode-detail\")"
   ]
  },
  {
   "cell_type": "code",
   "execution_count": 16,
   "metadata": {},
   "outputs": [],
   "source": [
    "url14=\"https://www.imdb.com/search/keyword/?keywords=murder&ref_=kw_nxt&mode=detail&page=14&title_type=movie&genres=Horror&user_rating=2.0%2C&num_votes=10000%2C&sort=user_rating,desc\"\n",
    "response14=requests.get(url14)\n",
    "Murder_Horror14=response14.text\n",
    "Murder_soup14=BeautifulSoup(Murder_Horror14,'html.parser')\n",
    "murder_con14=Murder_soup14.find_all('div',class_=\"lister-item mode-detail\")"
   ]
  },
  {
   "cell_type": "code",
   "execution_count": 17,
   "metadata": {},
   "outputs": [],
   "source": [
    "url15=\"https://www.imdb.com/search/keyword/?keywords=murder&ref_=kw_nxt&mode=detail&page=15&title_type=movie&genres=Horror&user_rating=2.0%2C&num_votes=10000%2C&sort=user_rating,desc\"\n",
    "response15=requests.get(url15)\n",
    "Murder_Horror15=response15.text\n",
    "Murder_soup15=BeautifulSoup(Murder_Horror15,'html.parser')\n",
    "murder_con15=Murder_soup15.find_all('div',class_=\"lister-item mode-detail\")"
   ]
  },
  {
   "cell_type": "code",
   "execution_count": 18,
   "metadata": {},
   "outputs": [],
   "source": [
    "names=[]\n",
    "def getinfo(containers):\n",
    "    for container in containers:\n",
    "        if container.find('div',class_='ratings-metascore') is not None:\n",
    "            name=container.h3.a.text\n",
    "            names.append(name)\n",
    "getinfo(murder_con)\n",
    "getinfo(murder_con2)\n",
    "getinfo(murder_con3)\n",
    "getinfo(murder_con4)\n",
    "getinfo(murder_con5)\n",
    "getinfo(murder_con6)\n",
    "getinfo(murder_con7)\n",
    "getinfo(murder_con8)\n",
    "getinfo(murder_con9)\n",
    "getinfo(murder_con10)\n",
    "getinfo(murder_con11)\n",
    "getinfo(murder_con12)\n",
    "getinfo(murder_con13)\n",
    "getinfo(murder_con14)\n",
    "getinfo(murder_con15)"
   ]
  },
  {
   "cell_type": "code",
   "execution_count": 19,
   "metadata": {},
   "outputs": [
    {
     "data": {
      "text/html": [
       "<div>\n",
       "<style scoped>\n",
       "    .dataframe tbody tr th:only-of-type {\n",
       "        vertical-align: middle;\n",
       "    }\n",
       "\n",
       "    .dataframe tbody tr th {\n",
       "        vertical-align: top;\n",
       "    }\n",
       "\n",
       "    .dataframe thead th {\n",
       "        text-align: right;\n",
       "    }\n",
       "</style>\n",
       "<table border=\"1\" class=\"dataframe\">\n",
       "  <thead>\n",
       "    <tr style=\"text-align: right;\">\n",
       "      <th></th>\n",
       "      <th>Movie</th>\n",
       "      <th>Murder</th>\n",
       "    </tr>\n",
       "  </thead>\n",
       "  <tbody>\n",
       "    <tr>\n",
       "      <th>0</th>\n",
       "      <td>Psycho</td>\n",
       "      <td>1</td>\n",
       "    </tr>\n",
       "    <tr>\n",
       "      <th>1</th>\n",
       "      <td>Alien</td>\n",
       "      <td>1</td>\n",
       "    </tr>\n",
       "    <tr>\n",
       "      <th>2</th>\n",
       "      <td>The Shining</td>\n",
       "      <td>1</td>\n",
       "    </tr>\n",
       "    <tr>\n",
       "      <th>3</th>\n",
       "      <td>The Thing</td>\n",
       "      <td>1</td>\n",
       "    </tr>\n",
       "    <tr>\n",
       "      <th>4</th>\n",
       "      <td>What Ever Happened to Baby Jane?</td>\n",
       "      <td>1</td>\n",
       "    </tr>\n",
       "    <tr>\n",
       "      <th>...</th>\n",
       "      <td>...</td>\n",
       "      <td>...</td>\n",
       "    </tr>\n",
       "    <tr>\n",
       "      <th>598</th>\n",
       "      <td>Slender Man</td>\n",
       "      <td>1</td>\n",
       "    </tr>\n",
       "    <tr>\n",
       "      <th>599</th>\n",
       "      <td>BloodRayne</td>\n",
       "      <td>1</td>\n",
       "    </tr>\n",
       "    <tr>\n",
       "      <th>600</th>\n",
       "      <td>The Human Centipede III (Final Sequence)</td>\n",
       "      <td>1</td>\n",
       "    </tr>\n",
       "    <tr>\n",
       "      <th>601</th>\n",
       "      <td>Alone in the Dark</td>\n",
       "      <td>1</td>\n",
       "    </tr>\n",
       "    <tr>\n",
       "      <th>602</th>\n",
       "      <td>House of the Dead</td>\n",
       "      <td>1</td>\n",
       "    </tr>\n",
       "  </tbody>\n",
       "</table>\n",
       "<p>603 rows × 2 columns</p>\n",
       "</div>"
      ],
      "text/plain": [
       "                                        Movie  Murder\n",
       "0                                      Psycho       1\n",
       "1                                       Alien       1\n",
       "2                                 The Shining       1\n",
       "3                                   The Thing       1\n",
       "4            What Ever Happened to Baby Jane?       1\n",
       "..                                        ...     ...\n",
       "598                               Slender Man       1\n",
       "599                                BloodRayne       1\n",
       "600  The Human Centipede III (Final Sequence)       1\n",
       "601                         Alone in the Dark       1\n",
       "602                         House of the Dead       1\n",
       "\n",
       "[603 rows x 2 columns]"
      ]
     },
     "execution_count": 19,
     "metadata": {},
     "output_type": "execute_result"
    }
   ],
   "source": [
    "murder_df1=pd.DataFrame({'Movie':names})\n",
    "murder_df1['Murder']=1\n",
    "murder_df1"
   ]
  },
  {
   "cell_type": "code",
   "execution_count": 20,
   "metadata": {},
   "outputs": [],
   "source": [
    "murder_df1.to_pickle('murder_df1.pkl')"
   ]
  },
  {
   "cell_type": "code",
   "execution_count": null,
   "metadata": {},
   "outputs": [],
   "source": []
  }
 ],
 "metadata": {
  "kernelspec": {
   "display_name": "Python 3",
   "language": "python",
   "name": "python3"
  },
  "language_info": {
   "codemirror_mode": {
    "name": "ipython",
    "version": 3
   },
   "file_extension": ".py",
   "mimetype": "text/x-python",
   "name": "python",
   "nbconvert_exporter": "python",
   "pygments_lexer": "ipython3",
   "version": "3.8.6"
  }
 },
 "nbformat": 4,
 "nbformat_minor": 4
}
