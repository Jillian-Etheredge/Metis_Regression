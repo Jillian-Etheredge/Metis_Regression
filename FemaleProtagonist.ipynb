{
 "cells": [
  {
   "cell_type": "code",
   "execution_count": 1,
   "metadata": {},
   "outputs": [],
   "source": [
    "from bs4 import BeautifulSoup\n",
    "import requests\n",
    "from IPython.core.display import display, HTML\n",
    "import pandas as pd\n",
    "import pickle"
   ]
  },
  {
   "cell_type": "code",
   "execution_count": 2,
   "metadata": {},
   "outputs": [
    {
     "data": {
      "text/plain": [
       "200"
      ]
     },
     "execution_count": 2,
     "metadata": {},
     "output_type": "execute_result"
    }
   ],
   "source": [
    "url=\"https://www.imdb.com/search/keyword/?keywords=female-protagonist&mode=detail&page=1&title_type=movie&genres=Horror&user_rating=2.0%2C&num_votes=10000%2C&ref_=kw_ref_rt_vt&sort=user_rating,desc\"\n",
    "response=requests.get(url)\n",
    "response.status_code"
   ]
  },
  {
   "cell_type": "code",
   "execution_count": 8,
   "metadata": {},
   "outputs": [],
   "source": [
    "Female_Horror=response.text\n",
    "Female_soup=BeautifulSoup(Female_Horror,'html.parser')\n",
    "female_con=Female_soup.find_all('div',class_=\"lister-item mode-detail\")"
   ]
  },
  {
   "cell_type": "code",
   "execution_count": 3,
   "metadata": {},
   "outputs": [],
   "source": [
    "url2=\"https://www.imdb.com/search/keyword/?keywords=female-protagonist&mode=detail&page=2&title_type=movie&genres=Horror&user_rating=2.0%2C&num_votes=10000%2C&ref_=kw_nxt&sort=user_rating,desc\"\n",
    "response2=requests.get(url2)\n",
    "Female_Horror2=response2.text\n",
    "Female_soup2=BeautifulSoup(Female_Horror2,'html.parser')\n",
    "female_con2=Female_soup2.find_all('div',class_=\"lister-item mode-detail\")"
   ]
  },
  {
   "cell_type": "code",
   "execution_count": 4,
   "metadata": {},
   "outputs": [],
   "source": [
    "url3=\"https://www.imdb.com/search/keyword/?keywords=female-protagonist&mode=detail&page=3&title_type=movie&genres=Horror&user_rating=2.0%2C&num_votes=10000%2C&ref_=kw_nxt&sort=user_rating,desc\"\n",
    "response3=requests.get(url3)\n",
    "Female_Horror3=response3.text\n",
    "Female_soup3=BeautifulSoup(Female_Horror3,'html.parser')\n",
    "female_con3=Female_soup3.find_all('div',class_=\"lister-item mode-detail\")"
   ]
  },
  {
   "cell_type": "code",
   "execution_count": 5,
   "metadata": {},
   "outputs": [],
   "source": [
    "url4=\"https://www.imdb.com/search/keyword/?keywords=female-protagonist&mode=detail&page=4&title_type=movie&genres=Horror&user_rating=2.0%2C&num_votes=10000%2C&ref_=kw_nxt&sort=user_rating,desc\"\n",
    "response4=requests.get(url4)\n",
    "Female_Horror4=response4.text\n",
    "Female_soup4=BeautifulSoup(Female_Horror4,'html.parser')\n",
    "female_con4=Female_soup4.find_all('div',class_=\"lister-item mode-detail\")"
   ]
  },
  {
   "cell_type": "code",
   "execution_count": 6,
   "metadata": {},
   "outputs": [],
   "source": [
    "url5=\"https://www.imdb.com/search/keyword/?keywords=female-protagonist&mode=detail&page=5&title_type=movie&genres=Horror&user_rating=2.0%2C&num_votes=10000%2C&ref_=kw_nxt&sort=user_rating,desc\"\n",
    "response5=requests.get(url5)\n",
    "Female_Horror5=response5.text\n",
    "Female_soup5=BeautifulSoup(Female_Horror5,'html.parser')\n",
    "female_con5=Female_soup5.find_all('div',class_=\"lister-item mode-detail\")"
   ]
  },
  {
   "cell_type": "code",
   "execution_count": 9,
   "metadata": {},
   "outputs": [],
   "source": [
    "names=[]\n",
    "def getinfo(containers):\n",
    "    for container in containers:\n",
    "        if container.find('div',class_='ratings-metascore') is not None:\n",
    "            name=container.h3.a.text\n",
    "            names.append(name)\n",
    "getinfo(female_con)\n",
    "getinfo(female_con2)\n",
    "getinfo(female_con3)\n",
    "getinfo(female_con4)\n",
    "getinfo(female_con5)"
   ]
  },
  {
   "cell_type": "code",
   "execution_count": 10,
   "metadata": {},
   "outputs": [
    {
     "data": {
      "text/html": [
       "<div>\n",
       "<style scoped>\n",
       "    .dataframe tbody tr th:only-of-type {\n",
       "        vertical-align: middle;\n",
       "    }\n",
       "\n",
       "    .dataframe tbody tr th {\n",
       "        vertical-align: top;\n",
       "    }\n",
       "\n",
       "    .dataframe thead th {\n",
       "        text-align: right;\n",
       "    }\n",
       "</style>\n",
       "<table border=\"1\" class=\"dataframe\">\n",
       "  <thead>\n",
       "    <tr style=\"text-align: right;\">\n",
       "      <th></th>\n",
       "      <th>Movie</th>\n",
       "      <th>Female Protagonist</th>\n",
       "    </tr>\n",
       "  </thead>\n",
       "  <tbody>\n",
       "    <tr>\n",
       "      <th>0</th>\n",
       "      <td>Alien</td>\n",
       "      <td>1</td>\n",
       "    </tr>\n",
       "    <tr>\n",
       "      <th>1</th>\n",
       "      <td>What Ever Happened to Baby Jane?</td>\n",
       "      <td>1</td>\n",
       "    </tr>\n",
       "    <tr>\n",
       "      <th>2</th>\n",
       "      <td>Rosemary's Baby</td>\n",
       "      <td>1</td>\n",
       "    </tr>\n",
       "    <tr>\n",
       "      <th>3</th>\n",
       "      <td>The Innocents</td>\n",
       "      <td>1</td>\n",
       "    </tr>\n",
       "    <tr>\n",
       "      <th>4</th>\n",
       "      <td>Halloween</td>\n",
       "      <td>1</td>\n",
       "    </tr>\n",
       "    <tr>\n",
       "      <th>...</th>\n",
       "      <td>...</td>\n",
       "      <td>...</td>\n",
       "    </tr>\n",
       "    <tr>\n",
       "      <th>180</th>\n",
       "      <td>The Grudge</td>\n",
       "      <td>1</td>\n",
       "    </tr>\n",
       "    <tr>\n",
       "      <th>181</th>\n",
       "      <td>Yoga Hosers</td>\n",
       "      <td>1</td>\n",
       "    </tr>\n",
       "    <tr>\n",
       "      <th>182</th>\n",
       "      <td>The Devil Inside</td>\n",
       "      <td>1</td>\n",
       "    </tr>\n",
       "    <tr>\n",
       "      <th>183</th>\n",
       "      <td>Vampires Suck</td>\n",
       "      <td>1</td>\n",
       "    </tr>\n",
       "    <tr>\n",
       "      <th>184</th>\n",
       "      <td>BloodRayne</td>\n",
       "      <td>1</td>\n",
       "    </tr>\n",
       "  </tbody>\n",
       "</table>\n",
       "<p>185 rows × 2 columns</p>\n",
       "</div>"
      ],
      "text/plain": [
       "                                Movie  Female Protagonist\n",
       "0                               Alien                   1\n",
       "1    What Ever Happened to Baby Jane?                   1\n",
       "2                     Rosemary's Baby                   1\n",
       "3                       The Innocents                   1\n",
       "4                           Halloween                   1\n",
       "..                                ...                 ...\n",
       "180                        The Grudge                   1\n",
       "181                       Yoga Hosers                   1\n",
       "182                  The Devil Inside                   1\n",
       "183                     Vampires Suck                   1\n",
       "184                        BloodRayne                   1\n",
       "\n",
       "[185 rows x 2 columns]"
      ]
     },
     "execution_count": 10,
     "metadata": {},
     "output_type": "execute_result"
    }
   ],
   "source": [
    "female_df1=pd.DataFrame({'Movie':names})\n",
    "female_df1['Female Protagonist']=1\n",
    "female_df1"
   ]
  },
  {
   "cell_type": "code",
   "execution_count": 11,
   "metadata": {},
   "outputs": [],
   "source": [
    "female_df1.to_pickle('female_df1.pkl')"
   ]
  },
  {
   "cell_type": "code",
   "execution_count": null,
   "metadata": {},
   "outputs": [],
   "source": []
  },
  {
   "cell_type": "code",
   "execution_count": null,
   "metadata": {},
   "outputs": [],
   "source": []
  },
  {
   "cell_type": "code",
   "execution_count": null,
   "metadata": {},
   "outputs": [],
   "source": []
  },
  {
   "cell_type": "code",
   "execution_count": null,
   "metadata": {},
   "outputs": [],
   "source": []
  },
  {
   "cell_type": "code",
   "execution_count": null,
   "metadata": {},
   "outputs": [],
   "source": []
  },
  {
   "cell_type": "code",
   "execution_count": null,
   "metadata": {},
   "outputs": [],
   "source": []
  },
  {
   "cell_type": "code",
   "execution_count": null,
   "metadata": {},
   "outputs": [],
   "source": []
  },
  {
   "cell_type": "code",
   "execution_count": null,
   "metadata": {},
   "outputs": [],
   "source": []
  },
  {
   "cell_type": "code",
   "execution_count": null,
   "metadata": {},
   "outputs": [],
   "source": []
  },
  {
   "cell_type": "code",
   "execution_count": null,
   "metadata": {},
   "outputs": [],
   "source": []
  }
 ],
 "metadata": {
  "kernelspec": {
   "display_name": "Python 3",
   "language": "python",
   "name": "python3"
  },
  "language_info": {
   "codemirror_mode": {
    "name": "ipython",
    "version": 3
   },
   "file_extension": ".py",
   "mimetype": "text/x-python",
   "name": "python",
   "nbconvert_exporter": "python",
   "pygments_lexer": "ipython3",
   "version": "3.8.6"
  }
 },
 "nbformat": 4,
 "nbformat_minor": 4
}
